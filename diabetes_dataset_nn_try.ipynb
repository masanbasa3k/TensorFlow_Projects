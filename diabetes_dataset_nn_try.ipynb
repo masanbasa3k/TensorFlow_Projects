{
  "nbformat": 4,
  "nbformat_minor": 0,
  "metadata": {
    "colab": {
      "provenance": []
    },
    "kernelspec": {
      "name": "python3",
      "display_name": "Python 3"
    },
    "language_info": {
      "name": "python"
    }
  },
  "cells": [
    {
      "cell_type": "code",
      "execution_count": 3,
      "metadata": {
        "id": "HHwbBPyjucAx"
      },
      "outputs": [],
      "source": [
        "import json\n",
        "import os\n",
        "\n",
        "with open('/content/drive/MyDrive/kaggle.json', 'r') as f:\n",
        "    kaggle_api_key = json.load(f)\n",
        "\n",
        "os.environ['KAGGLE_USERNAME'] = kaggle_api_key['username']\n",
        "os.environ['KAGGLE_KEY'] = kaggle_api_key['key']"
      ]
    },
    {
      "cell_type": "markdown",
      "source": [
        "Dataset:https://www.kaggle.com/datasets/akshaydattatraykhare/diabetes-dataset"
      ],
      "metadata": {
        "id": "oNCIwkz1u0Zr"
      }
    },
    {
      "cell_type": "code",
      "source": [
        "!kaggle datasets download -d akshaydattatraykhare/diabetes-dataset"
      ],
      "metadata": {
        "colab": {
          "base_uri": "https://localhost:8080/"
        },
        "id": "u8X5hdj4ulT1",
        "outputId": "ebb4c589-56f6-4d50-dfb4-8fe61e92387f"
      },
      "execution_count": 4,
      "outputs": [
        {
          "output_type": "stream",
          "name": "stdout",
          "text": [
            "Downloading diabetes-dataset.zip to /content\n",
            "\r  0% 0.00/8.91k [00:00<?, ?B/s]\n",
            "\r100% 8.91k/8.91k [00:00<00:00, 19.3MB/s]\n"
          ]
        }
      ]
    },
    {
      "cell_type": "code",
      "source": [
        "!unzip diabetes-dataset.zip"
      ],
      "metadata": {
        "colab": {
          "base_uri": "https://localhost:8080/"
        },
        "id": "kz02qnkNvZWo",
        "outputId": "581083dc-3810-4eb4-87f9-d9889a6f5d4e"
      },
      "execution_count": 5,
      "outputs": [
        {
          "output_type": "stream",
          "name": "stdout",
          "text": [
            "Archive:  diabetes-dataset.zip\n",
            "  inflating: diabetes.csv            \n"
          ]
        }
      ]
    },
    {
      "cell_type": "code",
      "source": [
        "import pandas as pd"
      ],
      "metadata": {
        "id": "oecgzhljvctu"
      },
      "execution_count": 6,
      "outputs": []
    },
    {
      "cell_type": "code",
      "source": [
        "df = pd.read_csv('/content/diabetes.csv')"
      ],
      "metadata": {
        "id": "ima8zBqtvk3F"
      },
      "execution_count": 47,
      "outputs": []
    },
    {
      "cell_type": "code",
      "source": [
        "df.head()"
      ],
      "metadata": {
        "colab": {
          "base_uri": "https://localhost:8080/",
          "height": 206
        },
        "id": "Q8YCcVAGvs85",
        "outputId": "d197d3b4-75a3-4c72-83a0-3a45af5daecb"
      },
      "execution_count": 8,
      "outputs": [
        {
          "output_type": "execute_result",
          "data": {
            "text/plain": [
              "   Pregnancies  Glucose  BloodPressure  SkinThickness  Insulin   BMI  \\\n",
              "0            6      148             72             35        0  33.6   \n",
              "1            1       85             66             29        0  26.6   \n",
              "2            8      183             64              0        0  23.3   \n",
              "3            1       89             66             23       94  28.1   \n",
              "4            0      137             40             35      168  43.1   \n",
              "\n",
              "   DiabetesPedigreeFunction  Age  Outcome  \n",
              "0                     0.627   50        1  \n",
              "1                     0.351   31        0  \n",
              "2                     0.672   32        1  \n",
              "3                     0.167   21        0  \n",
              "4                     2.288   33        1  "
            ],
            "text/html": [
              "\n",
              "  <div id=\"df-20384a22-58a7-49e2-bfc9-87f68a86bc88\">\n",
              "    <div class=\"colab-df-container\">\n",
              "      <div>\n",
              "<style scoped>\n",
              "    .dataframe tbody tr th:only-of-type {\n",
              "        vertical-align: middle;\n",
              "    }\n",
              "\n",
              "    .dataframe tbody tr th {\n",
              "        vertical-align: top;\n",
              "    }\n",
              "\n",
              "    .dataframe thead th {\n",
              "        text-align: right;\n",
              "    }\n",
              "</style>\n",
              "<table border=\"1\" class=\"dataframe\">\n",
              "  <thead>\n",
              "    <tr style=\"text-align: right;\">\n",
              "      <th></th>\n",
              "      <th>Pregnancies</th>\n",
              "      <th>Glucose</th>\n",
              "      <th>BloodPressure</th>\n",
              "      <th>SkinThickness</th>\n",
              "      <th>Insulin</th>\n",
              "      <th>BMI</th>\n",
              "      <th>DiabetesPedigreeFunction</th>\n",
              "      <th>Age</th>\n",
              "      <th>Outcome</th>\n",
              "    </tr>\n",
              "  </thead>\n",
              "  <tbody>\n",
              "    <tr>\n",
              "      <th>0</th>\n",
              "      <td>6</td>\n",
              "      <td>148</td>\n",
              "      <td>72</td>\n",
              "      <td>35</td>\n",
              "      <td>0</td>\n",
              "      <td>33.6</td>\n",
              "      <td>0.627</td>\n",
              "      <td>50</td>\n",
              "      <td>1</td>\n",
              "    </tr>\n",
              "    <tr>\n",
              "      <th>1</th>\n",
              "      <td>1</td>\n",
              "      <td>85</td>\n",
              "      <td>66</td>\n",
              "      <td>29</td>\n",
              "      <td>0</td>\n",
              "      <td>26.6</td>\n",
              "      <td>0.351</td>\n",
              "      <td>31</td>\n",
              "      <td>0</td>\n",
              "    </tr>\n",
              "    <tr>\n",
              "      <th>2</th>\n",
              "      <td>8</td>\n",
              "      <td>183</td>\n",
              "      <td>64</td>\n",
              "      <td>0</td>\n",
              "      <td>0</td>\n",
              "      <td>23.3</td>\n",
              "      <td>0.672</td>\n",
              "      <td>32</td>\n",
              "      <td>1</td>\n",
              "    </tr>\n",
              "    <tr>\n",
              "      <th>3</th>\n",
              "      <td>1</td>\n",
              "      <td>89</td>\n",
              "      <td>66</td>\n",
              "      <td>23</td>\n",
              "      <td>94</td>\n",
              "      <td>28.1</td>\n",
              "      <td>0.167</td>\n",
              "      <td>21</td>\n",
              "      <td>0</td>\n",
              "    </tr>\n",
              "    <tr>\n",
              "      <th>4</th>\n",
              "      <td>0</td>\n",
              "      <td>137</td>\n",
              "      <td>40</td>\n",
              "      <td>35</td>\n",
              "      <td>168</td>\n",
              "      <td>43.1</td>\n",
              "      <td>2.288</td>\n",
              "      <td>33</td>\n",
              "      <td>1</td>\n",
              "    </tr>\n",
              "  </tbody>\n",
              "</table>\n",
              "</div>\n",
              "      <button class=\"colab-df-convert\" onclick=\"convertToInteractive('df-20384a22-58a7-49e2-bfc9-87f68a86bc88')\"\n",
              "              title=\"Convert this dataframe to an interactive table.\"\n",
              "              style=\"display:none;\">\n",
              "        \n",
              "  <svg xmlns=\"http://www.w3.org/2000/svg\" height=\"24px\"viewBox=\"0 0 24 24\"\n",
              "       width=\"24px\">\n",
              "    <path d=\"M0 0h24v24H0V0z\" fill=\"none\"/>\n",
              "    <path d=\"M18.56 5.44l.94 2.06.94-2.06 2.06-.94-2.06-.94-.94-2.06-.94 2.06-2.06.94zm-11 1L8.5 8.5l.94-2.06 2.06-.94-2.06-.94L8.5 2.5l-.94 2.06-2.06.94zm10 10l.94 2.06.94-2.06 2.06-.94-2.06-.94-.94-2.06-.94 2.06-2.06.94z\"/><path d=\"M17.41 7.96l-1.37-1.37c-.4-.4-.92-.59-1.43-.59-.52 0-1.04.2-1.43.59L10.3 9.45l-7.72 7.72c-.78.78-.78 2.05 0 2.83L4 21.41c.39.39.9.59 1.41.59.51 0 1.02-.2 1.41-.59l7.78-7.78 2.81-2.81c.8-.78.8-2.07 0-2.86zM5.41 20L4 18.59l7.72-7.72 1.47 1.35L5.41 20z\"/>\n",
              "  </svg>\n",
              "      </button>\n",
              "      \n",
              "  <style>\n",
              "    .colab-df-container {\n",
              "      display:flex;\n",
              "      flex-wrap:wrap;\n",
              "      gap: 12px;\n",
              "    }\n",
              "\n",
              "    .colab-df-convert {\n",
              "      background-color: #E8F0FE;\n",
              "      border: none;\n",
              "      border-radius: 50%;\n",
              "      cursor: pointer;\n",
              "      display: none;\n",
              "      fill: #1967D2;\n",
              "      height: 32px;\n",
              "      padding: 0 0 0 0;\n",
              "      width: 32px;\n",
              "    }\n",
              "\n",
              "    .colab-df-convert:hover {\n",
              "      background-color: #E2EBFA;\n",
              "      box-shadow: 0px 1px 2px rgba(60, 64, 67, 0.3), 0px 1px 3px 1px rgba(60, 64, 67, 0.15);\n",
              "      fill: #174EA6;\n",
              "    }\n",
              "\n",
              "    [theme=dark] .colab-df-convert {\n",
              "      background-color: #3B4455;\n",
              "      fill: #D2E3FC;\n",
              "    }\n",
              "\n",
              "    [theme=dark] .colab-df-convert:hover {\n",
              "      background-color: #434B5C;\n",
              "      box-shadow: 0px 1px 3px 1px rgba(0, 0, 0, 0.15);\n",
              "      filter: drop-shadow(0px 1px 2px rgba(0, 0, 0, 0.3));\n",
              "      fill: #FFFFFF;\n",
              "    }\n",
              "  </style>\n",
              "\n",
              "      <script>\n",
              "        const buttonEl =\n",
              "          document.querySelector('#df-20384a22-58a7-49e2-bfc9-87f68a86bc88 button.colab-df-convert');\n",
              "        buttonEl.style.display =\n",
              "          google.colab.kernel.accessAllowed ? 'block' : 'none';\n",
              "\n",
              "        async function convertToInteractive(key) {\n",
              "          const element = document.querySelector('#df-20384a22-58a7-49e2-bfc9-87f68a86bc88');\n",
              "          const dataTable =\n",
              "            await google.colab.kernel.invokeFunction('convertToInteractive',\n",
              "                                                     [key], {});\n",
              "          if (!dataTable) return;\n",
              "\n",
              "          const docLinkHtml = 'Like what you see? Visit the ' +\n",
              "            '<a target=\"_blank\" href=https://colab.research.google.com/notebooks/data_table.ipynb>data table notebook</a>'\n",
              "            + ' to learn more about interactive tables.';\n",
              "          element.innerHTML = '';\n",
              "          dataTable['output_type'] = 'display_data';\n",
              "          await google.colab.output.renderOutput(dataTable, element);\n",
              "          const docLink = document.createElement('div');\n",
              "          docLink.innerHTML = docLinkHtml;\n",
              "          element.appendChild(docLink);\n",
              "        }\n",
              "      </script>\n",
              "    </div>\n",
              "  </div>\n",
              "  "
            ]
          },
          "metadata": {},
          "execution_count": 8
        }
      ]
    },
    {
      "cell_type": "code",
      "source": [
        "from sklearn.model_selection import train_test_split"
      ],
      "metadata": {
        "id": "gc6Vq-SKvuNO"
      },
      "execution_count": 9,
      "outputs": []
    },
    {
      "cell_type": "code",
      "source": [
        "X = df.drop(['Outcome'],axis=1)\n",
        "y = df.Outcome\n",
        "X_train,X_test,y_train,y_test = train_test_split(X,y,test_size=0.20,random_state=0)"
      ],
      "metadata": {
        "id": "iUYbwdpwwCOr"
      },
      "execution_count": 48,
      "outputs": []
    },
    {
      "cell_type": "code",
      "source": [
        "from sklearn.preprocessing import StandardScaler\n",
        "scaler = StandardScaler()\n",
        "X_train_scaled = scaler.fit_transform(X_train)\n",
        "X_test_scaled = scaler.transform(X_test)"
      ],
      "metadata": {
        "id": "bw6qEpqPwFUk"
      },
      "execution_count": 49,
      "outputs": []
    },
    {
      "cell_type": "code",
      "source": [
        "import tensorflow as tf\n",
        "from tensorflow import keras"
      ],
      "metadata": {
        "id": "kF3aTYijwYdP"
      },
      "execution_count": 13,
      "outputs": []
    },
    {
      "cell_type": "code",
      "source": [
        "model = tf.keras.Sequential([\n",
        "  tf.keras.layers.Dense(64, activation='relu', input_shape=(8,)),\n",
        "  tf.keras.layers.Dense(1, activation='sigmoid')\n",
        "])"
      ],
      "metadata": {
        "id": "DzV1SGj_wScl"
      },
      "execution_count": 50,
      "outputs": []
    },
    {
      "cell_type": "code",
      "source": [
        "model.compile(optimizer='adam',\n",
        "              loss='binary_crossentropy',\n",
        "              metrics=['accuracy'])"
      ],
      "metadata": {
        "id": "RhmZ1Ls6wybz"
      },
      "execution_count": 51,
      "outputs": []
    },
    {
      "cell_type": "code",
      "source": [
        "# Not Scaled\n",
        "model.fit(X_train, y_train, epochs=10, validation_data=(X_test, y_test))"
      ],
      "metadata": {
        "colab": {
          "base_uri": "https://localhost:8080/"
        },
        "id": "5MwUW1ACw1GL",
        "outputId": "1bbb1b04-9f51-434f-ff5a-a5425c0c0f9b"
      },
      "execution_count": 52,
      "outputs": [
        {
          "output_type": "stream",
          "name": "stdout",
          "text": [
            "Epoch 1/10\n",
            "20/20 [==============================] - 1s 16ms/step - loss: 10.4565 - accuracy: 0.5765 - val_loss: 4.7041 - val_accuracy: 0.5000\n",
            "Epoch 2/10\n",
            "20/20 [==============================] - 0s 4ms/step - loss: 2.7332 - accuracy: 0.5407 - val_loss: 1.5231 - val_accuracy: 0.6688\n",
            "Epoch 3/10\n",
            "20/20 [==============================] - 0s 5ms/step - loss: 1.1971 - accuracy: 0.6075 - val_loss: 0.9891 - val_accuracy: 0.6753\n",
            "Epoch 4/10\n",
            "20/20 [==============================] - 0s 5ms/step - loss: 0.9701 - accuracy: 0.6254 - val_loss: 0.8454 - val_accuracy: 0.6104\n",
            "Epoch 5/10\n",
            "20/20 [==============================] - 0s 5ms/step - loss: 0.8628 - accuracy: 0.6059 - val_loss: 0.7007 - val_accuracy: 0.6494\n",
            "Epoch 6/10\n",
            "20/20 [==============================] - 0s 5ms/step - loss: 0.8139 - accuracy: 0.6368 - val_loss: 0.6499 - val_accuracy: 0.7143\n",
            "Epoch 7/10\n",
            "20/20 [==============================] - 0s 5ms/step - loss: 0.7443 - accuracy: 0.6564 - val_loss: 0.6934 - val_accuracy: 0.6688\n",
            "Epoch 8/10\n",
            "20/20 [==============================] - 0s 5ms/step - loss: 0.7164 - accuracy: 0.6515 - val_loss: 0.6400 - val_accuracy: 0.6883\n",
            "Epoch 9/10\n",
            "20/20 [==============================] - 0s 5ms/step - loss: 0.6797 - accuracy: 0.6401 - val_loss: 0.6541 - val_accuracy: 0.6688\n",
            "Epoch 10/10\n",
            "20/20 [==============================] - 0s 4ms/step - loss: 0.6708 - accuracy: 0.6547 - val_loss: 0.6364 - val_accuracy: 0.6948\n"
          ]
        },
        {
          "output_type": "execute_result",
          "data": {
            "text/plain": [
              "<keras.callbacks.History at 0x7f947d2fb250>"
            ]
          },
          "metadata": {},
          "execution_count": 52
        }
      ]
    },
    {
      "cell_type": "code",
      "source": [
        "loss, accuracy = model.evaluate(X_test, y_test)\n",
        "print(\"Test set loss: \", loss)\n",
        "print(\"Test set accuracy: \", accuracy)"
      ],
      "metadata": {
        "colab": {
          "base_uri": "https://localhost:8080/"
        },
        "id": "WWUgTK3w17gP",
        "outputId": "beac7e73-a7c7-484a-966f-734626406409"
      },
      "execution_count": 53,
      "outputs": [
        {
          "output_type": "stream",
          "name": "stdout",
          "text": [
            "5/5 [==============================] - 0s 3ms/step - loss: 0.6364 - accuracy: 0.6948\n",
            "Test set loss:  0.6364313364028931\n",
            "Test set accuracy:  0.6948052048683167\n"
          ]
        }
      ]
    },
    {
      "cell_type": "code",
      "source": [
        "# Scaled\n",
        "model.fit(X_train_scaled, y_train, epochs=10, validation_data=(X_test_scaled, y_test))"
      ],
      "metadata": {
        "colab": {
          "base_uri": "https://localhost:8080/"
        },
        "id": "bb3goDn4xAKv",
        "outputId": "7db02bbd-6640-4bce-ff0c-b46531a0f770"
      },
      "execution_count": 54,
      "outputs": [
        {
          "output_type": "stream",
          "name": "stdout",
          "text": [
            "Epoch 1/10\n",
            "20/20 [==============================] - 1s 11ms/step - loss: 0.6113 - accuracy: 0.6824 - val_loss: 0.5746 - val_accuracy: 0.7597\n",
            "Epoch 2/10\n",
            "20/20 [==============================] - 0s 5ms/step - loss: 0.5819 - accuracy: 0.6857 - val_loss: 0.5422 - val_accuracy: 0.7662\n",
            "Epoch 3/10\n",
            "20/20 [==============================] - 0s 3ms/step - loss: 0.5613 - accuracy: 0.6987 - val_loss: 0.5216 - val_accuracy: 0.7792\n",
            "Epoch 4/10\n",
            "20/20 [==============================] - 0s 4ms/step - loss: 0.5465 - accuracy: 0.7003 - val_loss: 0.5054 - val_accuracy: 0.7857\n",
            "Epoch 5/10\n",
            "20/20 [==============================] - 0s 4ms/step - loss: 0.5356 - accuracy: 0.7003 - val_loss: 0.4913 - val_accuracy: 0.7857\n",
            "Epoch 6/10\n",
            "20/20 [==============================] - 0s 4ms/step - loss: 0.5271 - accuracy: 0.7068 - val_loss: 0.4826 - val_accuracy: 0.7922\n",
            "Epoch 7/10\n",
            "20/20 [==============================] - 0s 3ms/step - loss: 0.5202 - accuracy: 0.7166 - val_loss: 0.4749 - val_accuracy: 0.7922\n",
            "Epoch 8/10\n",
            "20/20 [==============================] - 0s 3ms/step - loss: 0.5144 - accuracy: 0.7199 - val_loss: 0.4680 - val_accuracy: 0.8052\n",
            "Epoch 9/10\n",
            "20/20 [==============================] - 0s 3ms/step - loss: 0.5086 - accuracy: 0.7296 - val_loss: 0.4628 - val_accuracy: 0.8117\n",
            "Epoch 10/10\n",
            "20/20 [==============================] - 0s 3ms/step - loss: 0.5049 - accuracy: 0.7394 - val_loss: 0.4567 - val_accuracy: 0.8117\n"
          ]
        },
        {
          "output_type": "execute_result",
          "data": {
            "text/plain": [
              "<keras.callbacks.History at 0x7f947d0bd270>"
            ]
          },
          "metadata": {},
          "execution_count": 54
        }
      ]
    },
    {
      "cell_type": "code",
      "source": [
        "loss, accuracy = model.evaluate(X_test, y_test)\n",
        "print(\"Test set loss: \", loss)\n",
        "print(\"Test set accuracy: \", accuracy)"
      ],
      "metadata": {
        "colab": {
          "base_uri": "https://localhost:8080/"
        },
        "id": "FJx7Nozj18Se",
        "outputId": "9d263b8b-b274-4888-f2e8-482c498c2917"
      },
      "execution_count": 55,
      "outputs": [
        {
          "output_type": "stream",
          "name": "stdout",
          "text": [
            "5/5 [==============================] - 0s 3ms/step - loss: 0.9122 - accuracy: 0.6753\n",
            "Test set loss:  0.912158727645874\n",
            "Test set accuracy:  0.6753246784210205\n"
          ]
        }
      ]
    },
    {
      "cell_type": "markdown",
      "source": [
        "Girdi özelliklerini ve hedef sınıfı numpy dizilerine dönüştürme"
      ],
      "metadata": {
        "id": "j9UnDKx31YeD"
      }
    },
    {
      "cell_type": "code",
      "source": [
        "import numpy as np"
      ],
      "metadata": {
        "id": "78rY3gt10yyb"
      },
      "execution_count": 29,
      "outputs": []
    },
    {
      "cell_type": "code",
      "source": [
        "X_train = np.array(X_train)\n",
        "X_test = np.array(X_test)\n",
        "y_train = np.array(y_train)\n",
        "y_test = np.array(y_test)"
      ],
      "metadata": {
        "id": "Y_VHJ2CxxcSF"
      },
      "execution_count": 57,
      "outputs": []
    },
    {
      "cell_type": "code",
      "source": [
        "from sklearn.preprocessing import StandardScaler\n",
        "scaler = StandardScaler()\n",
        "X_train_scaled = scaler.fit_transform(X_train)\n",
        "X_test_scaled = scaler.transform(X_test)"
      ],
      "metadata": {
        "id": "MnyJ061R0xcv"
      },
      "execution_count": 58,
      "outputs": []
    },
    {
      "cell_type": "code",
      "source": [
        "model = Sequential()\n",
        "model.add(Dense(64, activation='relu', input_shape=(8,)))\n",
        "model.add(Dense(1, activation='sigmoid'))\n",
        "model.compile(loss='binary_crossentropy', optimizer='adam', metrics=['accuracy'])"
      ],
      "metadata": {
        "id": "5C0RX03N0-Zw"
      },
      "execution_count": 59,
      "outputs": []
    },
    {
      "cell_type": "code",
      "source": [
        "model.fit(X_train, y_train, epochs=50, batch_size=32, validation_data=(X_test, y_test))"
      ],
      "metadata": {
        "colab": {
          "base_uri": "https://localhost:8080/"
        },
        "id": "LWZhpW1e0-sw",
        "outputId": "d1315994-0c01-401a-eb5d-723128857050"
      },
      "execution_count": 60,
      "outputs": [
        {
          "output_type": "stream",
          "name": "stdout",
          "text": [
            "Epoch 1/50\n",
            "20/20 [==============================] - 1s 16ms/step - loss: 6.7119 - accuracy: 0.4886 - val_loss: 3.1166 - val_accuracy: 0.7078\n",
            "Epoch 2/50\n",
            "20/20 [==============================] - 0s 4ms/step - loss: 2.6192 - accuracy: 0.6091 - val_loss: 1.7444 - val_accuracy: 0.5584\n",
            "Epoch 3/50\n",
            "20/20 [==============================] - 0s 5ms/step - loss: 1.3845 - accuracy: 0.6401 - val_loss: 1.0573 - val_accuracy: 0.6234\n",
            "Epoch 4/50\n",
            "20/20 [==============================] - 0s 5ms/step - loss: 1.0688 - accuracy: 0.6531 - val_loss: 0.8912 - val_accuracy: 0.6948\n",
            "Epoch 5/50\n",
            "20/20 [==============================] - 0s 4ms/step - loss: 0.9534 - accuracy: 0.6319 - val_loss: 0.8519 - val_accuracy: 0.6364\n",
            "Epoch 6/50\n",
            "20/20 [==============================] - 0s 4ms/step - loss: 0.7834 - accuracy: 0.6466 - val_loss: 0.9251 - val_accuracy: 0.5714\n",
            "Epoch 7/50\n",
            "20/20 [==============================] - 0s 4ms/step - loss: 0.8473 - accuracy: 0.6238 - val_loss: 0.7924 - val_accuracy: 0.5584\n",
            "Epoch 8/50\n",
            "20/20 [==============================] - 0s 5ms/step - loss: 0.6708 - accuracy: 0.6596 - val_loss: 0.6493 - val_accuracy: 0.6818\n",
            "Epoch 9/50\n",
            "20/20 [==============================] - 0s 5ms/step - loss: 0.6656 - accuracy: 0.6596 - val_loss: 0.6415 - val_accuracy: 0.6883\n",
            "Epoch 10/50\n",
            "20/20 [==============================] - 0s 4ms/step - loss: 0.6385 - accuracy: 0.6857 - val_loss: 0.6878 - val_accuracy: 0.6753\n",
            "Epoch 11/50\n",
            "20/20 [==============================] - 0s 5ms/step - loss: 0.7099 - accuracy: 0.6531 - val_loss: 0.7146 - val_accuracy: 0.5779\n",
            "Epoch 12/50\n",
            "20/20 [==============================] - 0s 5ms/step - loss: 0.7277 - accuracy: 0.6336 - val_loss: 0.7359 - val_accuracy: 0.7013\n",
            "Epoch 13/50\n",
            "20/20 [==============================] - 0s 5ms/step - loss: 0.6606 - accuracy: 0.6678 - val_loss: 0.6139 - val_accuracy: 0.7143\n",
            "Epoch 14/50\n",
            "20/20 [==============================] - 0s 5ms/step - loss: 0.6017 - accuracy: 0.7052 - val_loss: 0.6037 - val_accuracy: 0.7078\n",
            "Epoch 15/50\n",
            "20/20 [==============================] - 0s 5ms/step - loss: 0.5997 - accuracy: 0.7020 - val_loss: 0.8245 - val_accuracy: 0.5195\n",
            "Epoch 16/50\n",
            "20/20 [==============================] - 0s 5ms/step - loss: 0.6687 - accuracy: 0.6661 - val_loss: 0.5891 - val_accuracy: 0.7532\n",
            "Epoch 17/50\n",
            "20/20 [==============================] - 0s 5ms/step - loss: 0.6249 - accuracy: 0.6954 - val_loss: 0.6447 - val_accuracy: 0.6753\n",
            "Epoch 18/50\n",
            "20/20 [==============================] - 0s 3ms/step - loss: 0.6266 - accuracy: 0.6857 - val_loss: 0.5976 - val_accuracy: 0.7403\n",
            "Epoch 19/50\n",
            "20/20 [==============================] - 0s 3ms/step - loss: 0.5877 - accuracy: 0.7182 - val_loss: 0.5721 - val_accuracy: 0.7403\n",
            "Epoch 20/50\n",
            "20/20 [==============================] - 0s 3ms/step - loss: 0.5808 - accuracy: 0.7231 - val_loss: 0.5870 - val_accuracy: 0.7208\n",
            "Epoch 21/50\n",
            "20/20 [==============================] - 0s 4ms/step - loss: 0.6589 - accuracy: 0.6759 - val_loss: 0.6675 - val_accuracy: 0.5909\n",
            "Epoch 22/50\n",
            "20/20 [==============================] - 0s 4ms/step - loss: 0.5818 - accuracy: 0.7150 - val_loss: 0.8115 - val_accuracy: 0.5325\n",
            "Epoch 23/50\n",
            "20/20 [==============================] - 0s 4ms/step - loss: 0.7208 - accuracy: 0.6661 - val_loss: 0.5846 - val_accuracy: 0.7013\n",
            "Epoch 24/50\n",
            "20/20 [==============================] - 0s 4ms/step - loss: 0.6164 - accuracy: 0.6857 - val_loss: 0.7001 - val_accuracy: 0.5974\n",
            "Epoch 25/50\n",
            "20/20 [==============================] - 0s 4ms/step - loss: 0.5852 - accuracy: 0.7085 - val_loss: 0.5647 - val_accuracy: 0.7532\n",
            "Epoch 26/50\n",
            "20/20 [==============================] - 0s 4ms/step - loss: 0.5780 - accuracy: 0.7199 - val_loss: 0.5731 - val_accuracy: 0.7468\n",
            "Epoch 27/50\n",
            "20/20 [==============================] - 0s 3ms/step - loss: 0.5809 - accuracy: 0.7182 - val_loss: 0.6495 - val_accuracy: 0.6364\n",
            "Epoch 28/50\n",
            "20/20 [==============================] - 0s 4ms/step - loss: 0.5895 - accuracy: 0.7199 - val_loss: 0.6539 - val_accuracy: 0.6623\n",
            "Epoch 29/50\n",
            "20/20 [==============================] - 0s 3ms/step - loss: 0.6076 - accuracy: 0.6906 - val_loss: 0.5697 - val_accuracy: 0.7403\n",
            "Epoch 30/50\n",
            "20/20 [==============================] - 0s 3ms/step - loss: 0.5953 - accuracy: 0.7003 - val_loss: 0.7064 - val_accuracy: 0.5909\n",
            "Epoch 31/50\n",
            "20/20 [==============================] - 0s 3ms/step - loss: 0.5967 - accuracy: 0.6906 - val_loss: 0.6032 - val_accuracy: 0.6818\n",
            "Epoch 32/50\n",
            "20/20 [==============================] - 0s 4ms/step - loss: 0.5772 - accuracy: 0.7199 - val_loss: 0.5687 - val_accuracy: 0.7338\n",
            "Epoch 33/50\n",
            "20/20 [==============================] - 0s 4ms/step - loss: 0.5701 - accuracy: 0.7443 - val_loss: 0.6414 - val_accuracy: 0.6169\n",
            "Epoch 34/50\n",
            "20/20 [==============================] - 0s 3ms/step - loss: 0.5781 - accuracy: 0.7199 - val_loss: 0.6020 - val_accuracy: 0.7338\n",
            "Epoch 35/50\n",
            "20/20 [==============================] - 0s 4ms/step - loss: 0.5879 - accuracy: 0.7166 - val_loss: 0.5527 - val_accuracy: 0.7403\n",
            "Epoch 36/50\n",
            "20/20 [==============================] - 0s 3ms/step - loss: 0.5668 - accuracy: 0.7329 - val_loss: 0.5676 - val_accuracy: 0.7727\n",
            "Epoch 37/50\n",
            "20/20 [==============================] - 0s 4ms/step - loss: 0.5773 - accuracy: 0.7068 - val_loss: 0.8354 - val_accuracy: 0.5390\n",
            "Epoch 38/50\n",
            "20/20 [==============================] - 0s 4ms/step - loss: 0.6295 - accuracy: 0.6808 - val_loss: 0.6340 - val_accuracy: 0.6429\n",
            "Epoch 39/50\n",
            "20/20 [==============================] - 0s 4ms/step - loss: 0.6029 - accuracy: 0.6954 - val_loss: 0.5772 - val_accuracy: 0.7273\n",
            "Epoch 40/50\n",
            "20/20 [==============================] - 0s 3ms/step - loss: 0.5825 - accuracy: 0.7117 - val_loss: 0.5407 - val_accuracy: 0.7662\n",
            "Epoch 41/50\n",
            "20/20 [==============================] - 0s 4ms/step - loss: 0.5629 - accuracy: 0.7134 - val_loss: 0.5355 - val_accuracy: 0.7403\n",
            "Epoch 42/50\n",
            "20/20 [==============================] - 0s 3ms/step - loss: 0.6028 - accuracy: 0.7248 - val_loss: 0.5360 - val_accuracy: 0.7468\n",
            "Epoch 43/50\n",
            "20/20 [==============================] - 0s 3ms/step - loss: 0.6086 - accuracy: 0.7134 - val_loss: 0.7029 - val_accuracy: 0.6039\n",
            "Epoch 44/50\n",
            "20/20 [==============================] - 0s 4ms/step - loss: 0.5647 - accuracy: 0.7215 - val_loss: 0.5606 - val_accuracy: 0.7338\n",
            "Epoch 45/50\n",
            "20/20 [==============================] - 0s 4ms/step - loss: 0.5793 - accuracy: 0.7296 - val_loss: 0.7148 - val_accuracy: 0.5974\n",
            "Epoch 46/50\n",
            "20/20 [==============================] - 0s 3ms/step - loss: 0.5952 - accuracy: 0.6792 - val_loss: 0.5360 - val_accuracy: 0.7597\n",
            "Epoch 47/50\n",
            "20/20 [==============================] - 0s 3ms/step - loss: 0.5792 - accuracy: 0.7182 - val_loss: 0.5857 - val_accuracy: 0.7208\n",
            "Epoch 48/50\n",
            "20/20 [==============================] - 0s 3ms/step - loss: 0.6275 - accuracy: 0.6922 - val_loss: 0.5612 - val_accuracy: 0.7403\n",
            "Epoch 49/50\n",
            "20/20 [==============================] - 0s 4ms/step - loss: 0.6626 - accuracy: 0.6873 - val_loss: 0.6095 - val_accuracy: 0.6688\n",
            "Epoch 50/50\n",
            "20/20 [==============================] - 0s 4ms/step - loss: 0.5447 - accuracy: 0.7345 - val_loss: 0.5528 - val_accuracy: 0.7597\n"
          ]
        },
        {
          "output_type": "execute_result",
          "data": {
            "text/plain": [
              "<keras.callbacks.History at 0x7f947d18a590>"
            ]
          },
          "metadata": {},
          "execution_count": 60
        }
      ]
    },
    {
      "cell_type": "code",
      "source": [
        "loss, accuracy = model.evaluate(X_test, y_test)\n",
        "print(\"Test set loss: \", loss)\n",
        "print(\"Test set accuracy: \", accuracy)\n"
      ],
      "metadata": {
        "colab": {
          "base_uri": "https://localhost:8080/"
        },
        "id": "qmPVYWzb1BJ1",
        "outputId": "c08d4980-9a38-4294-cc30-7b910c9fd7ff"
      },
      "execution_count": 61,
      "outputs": [
        {
          "output_type": "stream",
          "name": "stdout",
          "text": [
            "5/5 [==============================] - 0s 3ms/step - loss: 0.5528 - accuracy: 0.7597\n",
            "Test set loss:  0.552802324295044\n",
            "Test set accuracy:  0.7597402334213257\n"
          ]
        }
      ]
    },
    {
      "cell_type": "code",
      "source": [
        "y_pred1 = model.predict(np.array([[6,\t148,\t72,\t35,\t0,\t33.6,\t0.627,\t50]]))\n",
        "y_pred2 = model.predict(np.array([[1,\t85,\t66,\t29,\t0,\t26.6,\t0.351,\t31\t]]))\n",
        "\n",
        "print(y_pred1)\n",
        "print(y_pred2)\n",
        "# y_pred1 ciktisi 1 olmaliydi\n",
        "# y_pred1 ciktisi 0 olmaliydi\n",
        "# "
      ],
      "metadata": {
        "colab": {
          "base_uri": "https://localhost:8080/"
        },
        "id": "qUlSkgdA2aAL",
        "outputId": "e0ba52e0-cf61-476e-dd93-55ea91e350a9"
      },
      "execution_count": 64,
      "outputs": [
        {
          "output_type": "stream",
          "name": "stdout",
          "text": [
            "1/1 [==============================] - 0s 83ms/step\n",
            "1/1 [==============================] - 0s 42ms/step\n",
            "[[0.7415908]]\n",
            "[[0.31263843]]\n"
          ]
        }
      ]
    },
    {
      "cell_type": "markdown",
      "source": [
        "Numpy arrayine cevirdigim zaman cok daha iyi bir sonuc aldim\n",
        "\n",
        "Sonuc olarak denedigim girdilerde dogru sonuc verdi oranda zaten %75 "
      ],
      "metadata": {
        "id": "fR5rYYiX2Q1m"
      }
    },
    {
      "cell_type": "markdown",
      "source": [
        "# Roc Egrisi"
      ],
      "metadata": {
        "id": "mcqArT6P5Qv1"
      }
    },
    {
      "cell_type": "code",
      "source": [
        "y_pred = model.predict(X_test)\n",
        "\n",
        "from sklearn.metrics import roc_curve, roc_auc_score\n",
        "import matplotlib.pyplot as plt\n",
        "\n",
        "fpr, tpr, thresholds = roc_curve(y_test, y_pred)\n",
        "auc = roc_auc_score(y_test, y_pred)\n",
        "\n",
        "plt.plot(fpr, tpr)\n",
        "plt.xlabel(\"False Positive Rate\")\n",
        "plt.ylabel(\"True Positive Rate\")\n",
        "plt.title(\"ROC Curve (AUC = {:.3f})\".format(auc))\n",
        "plt.show()\n"
      ],
      "metadata": {
        "colab": {
          "base_uri": "https://localhost:8080/",
          "height": 489
        },
        "id": "vq71Numf3P2n",
        "outputId": "3c0a401f-80b8-4c2b-dd96-b4d6d261640a"
      },
      "execution_count": 69,
      "outputs": [
        {
          "output_type": "stream",
          "name": "stdout",
          "text": [
            "5/5 [==============================] - 0s 3ms/step\n"
          ]
        },
        {
          "output_type": "display_data",
          "data": {
            "text/plain": [
              "<Figure size 640x480 with 1 Axes>"
            ],
            "image/png": "[encoded data removed]"
          },
          "metadata": {}
        }
      ]
    },
    {
      "cell_type": "code",
      "source": [],
      "metadata": {
        "id": "4f6bQneR4zJc"
      },
      "execution_count": null,
      "outputs": []
    }
  ]
}