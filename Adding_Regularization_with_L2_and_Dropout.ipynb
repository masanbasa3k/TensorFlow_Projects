{
  "nbformat": 4,
  "nbformat_minor": 0,
  "metadata": {
    "colab": {
      "provenance": []
    },
    "kernelspec": {
      "name": "python3",
      "display_name": "Python 3"
    },
    "language_info": {
      "name": "python"
    }
  },
  "cells": [
    {
      "cell_type": "code",
      "execution_count": 8,
      "metadata": {
        "id": "Q9wg4cIrF2Wu"
      },
      "outputs": [],
      "source": [
        "import tensorflow as tf\n",
        "from tensorflow import keras\n",
        "from tensorflow.keras import layers, regularizers\n",
        "from tensorflow.keras.datasets import cifar10"
      ]
    },
    {
      "cell_type": "code",
      "source": [
        "(X_train, y_train), (X_test, y_test) = cifar10.load_data()"
      ],
      "metadata": {
        "id": "GAfucUh6U-iE",
        "colab": {
          "base_uri": "https://localhost:8080/"
        },
        "outputId": "d9019993-6803-4bcc-a4e6-c7637ae4ad76"
      },
      "execution_count": 2,
      "outputs": [
        {
          "output_type": "stream",
          "name": "stdout",
          "text": [
            "Downloading data from https://www.cs.toronto.edu/~kriz/cifar-10-python.tar.gz\n",
            "170498071/170498071 [==============================] - 2s 0us/step\n"
          ]
        }
      ]
    },
    {
      "cell_type": "code",
      "source": [
        "X_train = X_train.astype('float32') / 255.0\n",
        "X_test = X_test.astype('float32') / 255.0"
      ],
      "metadata": {
        "id": "DA918g37VhPf"
      },
      "execution_count": 3,
      "outputs": []
    },
    {
      "cell_type": "markdown",
      "source": [
        "\n",
        "Bu kod satırı, X_train değişkeninin veri tipini float32'ye dönüştürür ve her bir elemanını 255.0'a bölerek normalleştirir.\n",
        "\n",
        "Bu işlem, X_train veri kümesindeki piksel değerlerini 0 ile 1 arasında bir değere normalleştirmek için yapılır.\n",
        "\n",
        "Orijinal veri kümesindeki piksel değerleri genellikle 0 ile 255 aralığında tamsayılar olarak temsil edilir, burada 0 siyahı ve 255 beyazı temsil eder. Veriyi bu şekilde normalleştirmek, modelin tutarlı ve standartlaştırılmış özelliklere sahip verilerden öğrenmesini sağlamaya yardımcı olur.\n",
        "\n",
        "float32 veri tipini kullanmak, float64 gibi daha büyük bir veri tipi kullanmaktan daha az bellek kullanımı sağlayarak eğitim sırasında bellek kullanımını azaltmaya yardımcı olur."
      ],
      "metadata": {
        "id": "y_jwF_NOWa-y"
      }
    },
    {
      "cell_type": "code",
      "source": [
        "def my_model():\n",
        "  inputs = keras.Input(shape=(32, 32, 3))\n",
        "  x = layers.Conv2D(32, 3, padding='same', kernel_regularizer=regularizers.l2(0.01),)(inputs)\n",
        "  x = layers.BatchNormalization()(x)\n",
        "  x = keras.activations.relu(x)\n",
        "  x = layers.MaxPooling2D()(x)\n",
        "  x = layers.Conv2D(64, 3, padding='same', kernel_regularizer=regularizers.l2(0.01),)(x)\n",
        "  x = layers.BatchNormalization()(x)\n",
        "  x = keras.activations.relu(x)\n",
        "  x = layers.MaxPooling2D()(x)\n",
        "  x = layers.Conv2D(128, 3, padding='same', kernel_regularizer=regularizers.l2(0.01),)(x)\n",
        "  x = layers.BatchNormalization()(x)\n",
        "  x = keras.activations.relu(x)\n",
        "  x = layers.Flatten()(x)\n",
        "  x = layers.Dense(64, activation='relu', kernel_regularizer=regularizers.l2(0.01),)(x)\n",
        "  x = layers.Dropout(0.5)(x)\n",
        "  outputs = layers.Dense(10)(x)\n",
        "  model = keras.Model(inputs=inputs, outputs=outputs)\n",
        "  return model"
      ],
      "metadata": {
        "id": "Y9OFWIWga6Zx"
      },
      "execution_count": 11,
      "outputs": []
    },
    {
      "cell_type": "markdown",
      "source": [
        "\n",
        "\n",
        "```\n",
        "  x = layers.Conv2D(32, 3, padding='same', kernel_regularizer=regularizers.l2(0.01),)(inputs)\n",
        "\n",
        "```\n",
        "32 adet 3x3 boyutunda filtre uygulanarak, 32 özellik haritası (feature map) elde edilir. 'padding' argümanı, kenarların aynı boyutta kalmasını sağlamak için görüntüye 0'lar ekler. 'kernel_regularizer' argümanı, aşırı uyumlanmayı önlemek için L2 düzenlileştirme uygular.\n",
        "\n",
        "```\n",
        "  x = layers.BatchNormalization()(x)\n",
        "\n",
        "```\n",
        "Özellik haritalarını normalleştirir, bu sayede daha hızlı öğrenme ve daha iyi sonuçlar elde edilir.\n",
        "\n",
        "\n",
        "```\n",
        "  x = keras.activations.relu(x)\n",
        "```\n",
        "ReLU aktivasyon fonksiyonu uygulanır.\n",
        "\n",
        "\n",
        "\n",
        "```\n",
        "  x = layers.MaxPooling2D()(x)\n",
        "```\n",
        "2x2 boyutunda bir maksimum havuzlama işlemi uygular. Bu, boyutu yarıya indirerek özellik haritalarını özetler ve hesaplama yükünü azaltı\n",
        "\n",
        "\n",
        "\n",
        "```\n",
        "  x = layers.Flatten()(x)\n",
        "\n",
        "```\n",
        "Özellik haritalarını düzleştirerek, tam bağlantılı bir katmana beslemek için vektörel bir formata dönüştürür.\n",
        "\n",
        "\n",
        "```\n",
        "x = layers.Dense(64, activation='relu', kernel_regularizer=regularizers.l2(0.01),)(x)\n",
        "```\n",
        "64 nöronlu, ReLU aktivasyonlu bir tam bağlantılı (dense) katman ekler. 'kernel_regularizer' argümanı, aşırı uyumlanmayı önlemek için L2 düzenlileştirme uygular.\n",
        "\n",
        "\n",
        "\n",
        "\n",
        "\n",
        "```\n",
        "x = layers.Dropout(0.5)(x)\n",
        "```\n",
        "%50 oranında rastgele nöronların çıkartılmasını (dropout) uygular. Bu, aşırı uyumlanmayı önlemek için kullanılır.\n",
        "\n",
        "\n",
        "\n",
        "```\n",
        "outputs = layers.Dense(10)(x)\n",
        "```\n",
        "10 nöronlu bir çıkış katmanı ekler. Bu, sınıflandırma yapmak için kullanılacak.\n",
        "\n",
        "\n",
        "\n",
        "\n"
      ],
      "metadata": {
        "id": "PKjfJdROXt6J"
      }
    },
    {
      "cell_type": "code",
      "source": [
        "model = my_model()"
      ],
      "metadata": {
        "id": "AZfdpUJYDprf"
      },
      "execution_count": 12,
      "outputs": []
    },
    {
      "cell_type": "code",
      "source": [
        "model.compile(\n",
        "    loss=keras.losses.SparseCategoricalCrossentropy(from_logits=True),\n",
        "    optimizer=keras.optimizers.Adam(learning_rate=3e-4),\n",
        "    metrics=['accuracy']\n",
        ")"
      ],
      "metadata": {
        "id": "G2tJXpBaDvGt"
      },
      "execution_count": 13,
      "outputs": []
    },
    {
      "cell_type": "code",
      "source": [
        "model.fit(X_train, y_train, batch_size=64, epochs=10, verbose=2)\n",
        "model.evaluate(X_train, y_train, batch_size=64, verbose=2)"
      ],
      "metadata": {
        "id": "TQPiE0XmD7bS",
        "colab": {
          "base_uri": "https://localhost:8080/"
        },
        "outputId": "7abeed1c-f3ff-4220-f448-97bd8c6670e2"
      },
      "execution_count": 14,
      "outputs": [
        {
          "output_type": "stream",
          "name": "stdout",
          "text": [
            "Epoch 1/10\n",
            "782/782 - 139s - loss: 3.0717 - accuracy: 0.3660 - 139s/epoch - 178ms/step\n",
            "Epoch 2/10\n",
            "782/782 - 140s - loss: 1.9023 - accuracy: 0.4937 - 140s/epoch - 179ms/step\n",
            "Epoch 3/10\n",
            "782/782 - 137s - loss: 1.6021 - accuracy: 0.5441 - 137s/epoch - 175ms/step\n",
            "Epoch 4/10\n",
            "782/782 - 137s - loss: 1.4531 - accuracy: 0.5809 - 137s/epoch - 175ms/step\n",
            "Epoch 5/10\n",
            "782/782 - 135s - loss: 1.3887 - accuracy: 0.5962 - 135s/epoch - 173ms/step\n",
            "Epoch 6/10\n",
            "782/782 - 136s - loss: 1.3281 - accuracy: 0.6177 - 136s/epoch - 174ms/step\n",
            "Epoch 7/10\n",
            "782/782 - 135s - loss: 1.2970 - accuracy: 0.6271 - 135s/epoch - 172ms/step\n",
            "Epoch 8/10\n",
            "782/782 - 136s - loss: 1.2656 - accuracy: 0.6394 - 136s/epoch - 174ms/step\n",
            "Epoch 9/10\n",
            "782/782 - 135s - loss: 1.2439 - accuracy: 0.6488 - 135s/epoch - 173ms/step\n",
            "Epoch 10/10\n",
            "782/782 - 135s - loss: 1.2194 - accuracy: 0.6585 - 135s/epoch - 172ms/step\n",
            "782/782 - 35s - loss: 1.1910 - accuracy: 0.6645 - 35s/epoch - 45ms/step\n"
          ]
        },
        {
          "output_type": "execute_result",
          "data": {
            "text/plain": [
              "[1.1910334825515747, 0.6644799709320068]"
            ]
          },
          "metadata": {},
          "execution_count": 14
        }
      ]
    },
    {
      "cell_type": "code",
      "source": [],
      "metadata": {
        "id": "URfCYhE3goQ5"
      },
      "execution_count": null,
      "outputs": []
    }
  ]
}