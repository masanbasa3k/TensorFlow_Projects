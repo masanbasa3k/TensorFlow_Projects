{
  "nbformat": 4,
  "nbformat_minor": 0,
  "metadata": {
    "colab": {
      "provenance": []
    },
    "kernelspec": {
      "name": "python3",
      "display_name": "Python 3"
    },
    "language_info": {
      "name": "python"
    }
  },
  "cells": [
    {
      "cell_type": "code",
      "execution_count": 1,
      "metadata": {
        "id": "Q9wg4cIrF2Wu"
      },
      "outputs": [],
      "source": [
        "import tensorflow as tf\n",
        "from tensorflow import keras\n",
        "from tensorflow.keras import layers\n",
        "from tensorflow.keras.datasets import cifar10"
      ]
    },
    {
      "cell_type": "code",
      "source": [
        "(X_train, y_train), (X_test, y_test) = cifar10.load_data()"
      ],
      "metadata": {
        "id": "GAfucUh6U-iE",
        "colab": {
          "base_uri": "https://localhost:8080/"
        },
        "outputId": "e56970ce-6622-4278-958b-2f4c00caeed2"
      },
      "execution_count": 2,
      "outputs": [
        {
          "output_type": "stream",
          "name": "stdout",
          "text": [
            "Downloading data from https://www.cs.toronto.edu/~kriz/cifar-10-python.tar.gz\n",
            "170498071/170498071 [==============================] - 3s 0us/step\n"
          ]
        }
      ]
    },
    {
      "cell_type": "code",
      "source": [
        "X_train = X_train.astype('float32') / 255.0\n",
        "X_test = X_test.astype('float32') / 255.0"
      ],
      "metadata": {
        "id": "DA918g37VhPf"
      },
      "execution_count": 3,
      "outputs": []
    },
    {
      "cell_type": "markdown",
      "source": [
        "\n",
        "Bu kod satırı, X_train değişkeninin veri tipini float32'ye dönüştürür ve her bir elemanını 255.0'a bölerek normalleştirir.\n",
        "\n",
        "Bu işlem, X_train veri kümesindeki piksel değerlerini 0 ile 1 arasında bir değere normalleştirmek için yapılır.\n",
        "\n",
        "Orijinal veri kümesindeki piksel değerleri genellikle 0 ile 255 aralığında tamsayılar olarak temsil edilir, burada 0 siyahı ve 255 beyazı temsil eder. Veriyi bu şekilde normalleştirmek, modelin tutarlı ve standartlaştırılmış özelliklere sahip verilerden öğrenmesini sağlamaya yardımcı olur.\n",
        "\n",
        "float32 veri tipini kullanmak, float64 gibi daha büyük bir veri tipi kullanmaktan daha az bellek kullanımı sağlayarak eğitim sırasında bellek kullanımını azaltmaya yardımcı olur."
      ],
      "metadata": {
        "id": "y_jwF_NOWa-y"
      }
    },
    {
      "cell_type": "code",
      "source": [
        "model = keras.Sequential([\n",
        "    keras.Input(shape=(32,32,3)), # 32x32 boyutunda ve 3 kanala sahip (RGB) görüntülerin kullanılacağını belirtir.\n",
        "    layers.Conv2D(32, 3, padding='valid', activation='relu'), # 32 adet 30x30 boyutunda filtre uygulanmış görüntü üretir. \n",
        "    layers.MaxPool2D(pool_size=(2,2)), # 2x2 boyutunda filtreler kullanarak çıkış görüntüsünü yarı boyutuna indirger.\n",
        "    layers.Conv2D(64, 3, activation='relu'), # 64 adet 28x28 boyutunda filtre uygulanmış görüntü üretir. \n",
        "    layers.MaxPool2D(), # 2x2 boyutunda filtreler kullanarak çıkış görüntüsünü yarı boyutuna indirger.\n",
        "    layers.Conv2D(128, 3, activation='relu'), # 128 adet 26x26 boyutunda filtre uygulanmış görüntü üretir. \n",
        "    layers.Flatten(), # gelen çıktıyı düzleştirerek tek bir vektör haline getirir.\n",
        "    layers.Dense(64, activation='relu'), # gizli katman\n",
        "    layers.Dense(10), # Çıkış katmanı\n",
        "])"
      ],
      "metadata": {
        "id": "9J7aDYibWeXz"
      },
      "execution_count": null,
      "outputs": []
    },
    {
      "cell_type": "code",
      "source": [
        "print(model.summary())"
      ],
      "metadata": {
        "colab": {
          "base_uri": "https://localhost:8080/"
        },
        "id": "2P0ASi_CXHXU",
        "outputId": "b889ee26-97c6-48fe-830c-0afe4fb287c5"
      },
      "execution_count": null,
      "outputs": [
        {
          "output_type": "stream",
          "name": "stdout",
          "text": [
            "Model: \"sequential_2\"\n",
            "_________________________________________________________________\n",
            " Layer (type)                Output Shape              Param #   \n",
            "=================================================================\n",
            " conv2d_4 (Conv2D)           (None, 30, 30, 32)        896       \n",
            "                                                                 \n",
            " max_pooling2d_3 (MaxPooling  (None, 15, 15, 32)       0         \n",
            " 2D)                                                             \n",
            "                                                                 \n",
            " conv2d_5 (Conv2D)           (None, 13, 13, 64)        18496     \n",
            "                                                                 \n",
            " max_pooling2d_4 (MaxPooling  (None, 6, 6, 64)         0         \n",
            " 2D)                                                             \n",
            "                                                                 \n",
            " conv2d_6 (Conv2D)           (None, 4, 4, 128)         73856     \n",
            "                                                                 \n",
            " flatten_1 (Flatten)         (None, 2048)              0         \n",
            "                                                                 \n",
            " dense_2 (Dense)             (None, 64)                131136    \n",
            "                                                                 \n",
            " dense_3 (Dense)             (None, 10)                650       \n",
            "                                                                 \n",
            "=================================================================\n",
            "Total params: 225,034\n",
            "Trainable params: 225,034\n",
            "Non-trainable params: 0\n",
            "_________________________________________________________________\n",
            "None\n"
          ]
        }
      ]
    },
    {
      "cell_type": "code",
      "source": [
        "model.compile(\n",
        "    loss=keras.losses.SparseCategoricalCrossentropy(from_logits=True),\n",
        "    optimizer=keras.optimizers.Adam(learning_rate=3e-4),\n",
        "    metrics=['accuracy']\n",
        ")"
      ],
      "metadata": {
        "id": "fHsDFIsCXPCk"
      },
      "execution_count": null,
      "outputs": []
    },
    {
      "cell_type": "markdown",
      "source": [
        "\n",
        "1. \n",
        "```\n",
        "loss=keras.losses.SparseCategoricalCrossentropy(from_logits=True)\n",
        "```\n",
        "\n",
        "\n",
        "Kayıp fonksiyonu olarak, seyrek (sparse) kategorik çapraz entropi (categorical crossentropy) kullanılır. Bu fonksiyon, çoklu sınıf sınıflandırması için uygun bir kayıp fonksiyonudur.\n",
        "\n",
        "from_logits=True parametresi, çıkış katmanından çıkan logit değerlerinin kayıp fonksiyonuna doğrudan verileceğini belirtir.\n",
        "\n",
        "2. \n",
        "```\n",
        "optimizer=keras.optimizers.Adam(learning_rate=3e-4)\n",
        "```\n",
        "\n",
        "Optimizasyon algoritması olarak, Adam algoritması kullanılır. Bu algoritma, gradient descent algoritmasının geliştirilmiş bir versiyonudur ve öğrenme oranını otomatik olarak ayarlar.\n",
        "\n",
        "learning_rate=3e-4 parametresi, öğrenme oranının 0.0003 olarak belirlendiğini gösterir.\n",
        "\n",
        "3. \n",
        "```\n",
        "metrics=['accuracy']\n",
        "```\n",
        "Performans ölçütleri olarak, doğruluk (accuracy) ölçütü kullanılır. Bu ölçüt, modelin sınıflandırma doğruluğunu gösterir."
      ],
      "metadata": {
        "id": "zsWS8CBiZjYZ"
      }
    },
    {
      "cell_type": "code",
      "source": [
        "model.fit(X_train, y_train, batch_size=64, epochs=10, verbose=2)"
      ],
      "metadata": {
        "colab": {
          "base_uri": "https://localhost:8080/"
        },
        "id": "KD_fJYd-aES_",
        "outputId": "4279bd1e-8e7f-4160-b6db-da2757b79368"
      },
      "execution_count": null,
      "outputs": [
        {
          "output_type": "stream",
          "name": "stdout",
          "text": [
            "Epoch 1/10\n",
            "782/782 - 76s - loss: 1.6869 - accuracy: 0.3850 - 76s/epoch - 97ms/step\n",
            "Epoch 2/10\n",
            "782/782 - 73s - loss: 1.3747 - accuracy: 0.5059 - 73s/epoch - 93ms/step\n",
            "Epoch 3/10\n",
            "782/782 - 74s - loss: 1.2427 - accuracy: 0.5586 - 74s/epoch - 95ms/step\n",
            "Epoch 4/10\n",
            "782/782 - 74s - loss: 1.1484 - accuracy: 0.5960 - 74s/epoch - 95ms/step\n",
            "Epoch 5/10\n",
            "782/782 - 73s - loss: 1.0668 - accuracy: 0.6238 - 73s/epoch - 93ms/step\n",
            "Epoch 6/10\n",
            "782/782 - 74s - loss: 1.0012 - accuracy: 0.6496 - 74s/epoch - 95ms/step\n",
            "Epoch 7/10\n",
            "782/782 - 73s - loss: 0.9483 - accuracy: 0.6703 - 73s/epoch - 93ms/step\n",
            "Epoch 8/10\n",
            "782/782 - 74s - loss: 0.9081 - accuracy: 0.6853 - 74s/epoch - 95ms/step\n",
            "Epoch 9/10\n",
            "782/782 - 77s - loss: 0.8628 - accuracy: 0.7023 - 77s/epoch - 99ms/step\n",
            "Epoch 10/10\n",
            "782/782 - 73s - loss: 0.8289 - accuracy: 0.7151 - 73s/epoch - 93ms/step\n"
          ]
        },
        {
          "output_type": "execute_result",
          "data": {
            "text/plain": [
              "<keras.callbacks.History at 0x7f0da0f7bf40>"
            ]
          },
          "metadata": {},
          "execution_count": 13
        }
      ]
    },
    {
      "cell_type": "markdown",
      "source": [
        "1. `X_train ve y_train`\n",
        "\n",
        "Eğitim verileri, modelin eğitiminde kullanılacak olan görüntüler ve etiketlerdir.\n",
        "\n",
        "2. `batch_size=64:`\n",
        "\n",
        "Her bir eğitim iterasyonunda kullanılacak olan örnek sayısıdır. Bu örneklere dayanarak model ağırlıkları güncellenir. Bu durumda, 64 örnekten oluşan bir grup (batch) kullanılmaktadır.\n",
        "\n",
        "3. `epochs=10:`\n",
        "\n",
        "Eğitim işleminin kaç dönem boyunca yapılacağını belirtir. Bu durumda, eğitim verileri üzerinde 10 dönem boyunca eğitim yapılacaktır.\n",
        "\n",
        "4. `verbose=2:`\n",
        "\n",
        "Eğitim işleminin ilerlemesi hakkında ne kadar bilgi verileceğini belirtir. 2 değeri, her bir dönem sonunda kayıp fonksiyonu ve performans ölçütleri değerlerinin görüntülenmesini sağlar."
      ],
      "metadata": {
        "id": "gyS4ULSZagAW"
      }
    },
    {
      "cell_type": "code",
      "source": [
        "model.evaluate(X_train, y_train, batch_size=64, verbose=2)"
      ],
      "metadata": {
        "colab": {
          "base_uri": "https://localhost:8080/"
        },
        "id": "it_pHD9ralxM",
        "outputId": "801f1475-ebf7-4cc6-b38f-1aa156d3450f"
      },
      "execution_count": null,
      "outputs": [
        {
          "output_type": "stream",
          "name": "stdout",
          "text": [
            "782/782 - 20s - loss: 0.7883 - accuracy: 0.7288 - 20s/epoch - 26ms/step\n"
          ]
        },
        {
          "output_type": "execute_result",
          "data": {
            "text/plain": [
              "[0.7883187532424927, 0.7287799715995789]"
            ]
          },
          "metadata": {},
          "execution_count": 15
        }
      ]
    },
    {
      "cell_type": "markdown",
      "source": [
        "Modelin performansını değerlendirmek için kullanılır. Bu işlem sırasında, eğitim verileri üzerindeki kayıp fonksiyonu değeri ve performans ölçütleri hesaplanır.\n",
        "\n",
        "1. `X_train ve y_train`\n",
        "\n",
        "Değerlendirme işlemi için kullanılacak olan verilerdir. Bu durumda, eğitim verileri kullanılacaktır.\n",
        "\n",
        "2. `batch_size=64`\n",
        "\n",
        "Her bir değerlendirme iterasyonunda kullanılacak olan örnek sayısıdır. Bu örneklere dayanarak model performansı hesaplanır. Bu durumda, 64 örnekten oluşan bir grup (batch) kullanılmaktadır.\n",
        "\n",
        "3. `verbose=2`\n",
        "\n",
        "Değerlendirme işleminin ilerlemesi hakkında ne kadar bilgi verileceğini belirtir. 2 değeri, her bir iterasyon sonunda kayıp fonksiyonu ve performans ölçütleri değerlerinin görüntülenmesini sağlar."
      ],
      "metadata": {
        "id": "1WRnRnYtrlEU"
      }
    },
    {
      "cell_type": "code",
      "source": [
        "def my_model():\n",
        "  inputs = keras.Input(shape=(32, 32, 3))\n",
        "  x = layers.Conv2D(32, 3)(inputs)\n",
        "  x = layers.BatchNormalization()(x)\n",
        "  x = keras.activations.relu(x)\n",
        "  x = layers.MaxPooling2D()(x)\n",
        "  x = layers.Conv2D(64, 3, padding='same')(x)\n",
        "  x = layers.BatchNormalization()(x)\n",
        "  x = keras.activations.relu(x)\n",
        "  x = layers.Conv2D(128, 3)(x)\n",
        "  x = layers.BatchNormalization()(x)\n",
        "  x = keras.activations.relu(x)\n",
        "  x = layers.Flatten()(x)\n",
        "  x = layers.Dense(64, activation='relu')(x)\n",
        "  outputs = layers.Dense(10)(x)\n",
        "  model = keras.Model(inputs=inputs, outputs=outputs)\n",
        "  return model"
      ],
      "metadata": {
        "id": "Y9OFWIWga6Zx"
      },
      "execution_count": 4,
      "outputs": []
    },
    {
      "cell_type": "code",
      "source": [
        "model = my_model()"
      ],
      "metadata": {
        "id": "AZfdpUJYDprf"
      },
      "execution_count": 5,
      "outputs": []
    },
    {
      "cell_type": "code",
      "source": [
        "model.compile(\n",
        "    loss=keras.losses.SparseCategoricalCrossentropy(from_logits=True),\n",
        "    optimizer=keras.optimizers.Adam(learning_rate=3e-4),\n",
        "    metrics=['accuracy']\n",
        ")"
      ],
      "metadata": {
        "id": "G2tJXpBaDvGt"
      },
      "execution_count": 6,
      "outputs": []
    },
    {
      "cell_type": "code",
      "source": [
        "model.fit(X_train, y_train, batch_size=64, epochs=10, verbose=2)\n",
        "model.evaluate(X_train, y_train, batch_size=64, verbose=2)"
      ],
      "metadata": {
        "id": "TQPiE0XmD7bS",
        "colab": {
          "base_uri": "https://localhost:8080/"
        },
        "outputId": "ff4d55d1-aec4-4ee9-e5ec-23757e050ab6"
      },
      "execution_count": 7,
      "outputs": [
        {
          "output_type": "stream",
          "name": "stdout",
          "text": [
            "Epoch 1/10\n",
            "782/782 - 221s - loss: 1.2966 - accuracy: 0.5385 - 221s/epoch - 283ms/step\n",
            "Epoch 2/10\n",
            "782/782 - 214s - loss: 0.8963 - accuracy: 0.6850 - 214s/epoch - 274ms/step\n",
            "Epoch 3/10\n",
            "782/782 - 221s - loss: 0.7268 - accuracy: 0.7460 - 221s/epoch - 282ms/step\n",
            "Epoch 4/10\n",
            "782/782 - 218s - loss: 0.6050 - accuracy: 0.7898 - 218s/epoch - 279ms/step\n",
            "Epoch 5/10\n",
            "782/782 - 216s - loss: 0.5084 - accuracy: 0.8243 - 216s/epoch - 276ms/step\n",
            "Epoch 6/10\n",
            "782/782 - 207s - loss: 0.4252 - accuracy: 0.8529 - 207s/epoch - 264ms/step\n",
            "Epoch 7/10\n",
            "782/782 - 206s - loss: 0.3431 - accuracy: 0.8852 - 206s/epoch - 264ms/step\n",
            "Epoch 8/10\n",
            "782/782 - 206s - loss: 0.2774 - accuracy: 0.9080 - 206s/epoch - 264ms/step\n",
            "Epoch 9/10\n",
            "782/782 - 204s - loss: 0.2300 - accuracy: 0.9248 - 204s/epoch - 261ms/step\n",
            "Epoch 10/10\n",
            "782/782 - 207s - loss: 0.1823 - accuracy: 0.9408 - 207s/epoch - 265ms/step\n",
            "782/782 - 52s - loss: 0.3712 - accuracy: 0.8603 - 52s/epoch - 67ms/step\n"
          ]
        },
        {
          "output_type": "execute_result",
          "data": {
            "text/plain": [
              "[0.3711892068386078, 0.860260009765625]"
            ]
          },
          "metadata": {},
          "execution_count": 7
        }
      ]
    },
    {
      "cell_type": "code",
      "source": [],
      "metadata": {
        "id": "URfCYhE3goQ5"
      },
      "execution_count": null,
      "outputs": []
    }
  ]
}