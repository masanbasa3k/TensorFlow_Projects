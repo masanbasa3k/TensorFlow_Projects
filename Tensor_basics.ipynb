{
  "nbformat": 4,
  "nbformat_minor": 0,
  "metadata": {
    "colab": {
      "provenance": []
    },
    "kernelspec": {
      "name": "python3",
      "display_name": "Python 3"
    },
    "language_info": {
      "name": "python"
    }
  },
  "cells": [
    {
      "cell_type": "code",
      "execution_count": 2,
      "metadata": {
        "id": "Q9wg4cIrF2Wu"
      },
      "outputs": [],
      "source": [
        "import tensorflow as tf"
      ]
    },
    {
      "cell_type": "code",
      "source": [
        "x = tf.constant(4, shape=(1,1), dtype=tf.float32)\n",
        "print(x)"
      ],
      "metadata": {
        "colab": {
          "base_uri": "https://localhost:8080/"
        },
        "id": "dmR1Qj47F5ba",
        "outputId": "3bb39888-89a7-4035-dee7-f333255b62e5"
      },
      "execution_count": 3,
      "outputs": [
        {
          "output_type": "stream",
          "name": "stdout",
          "text": [
            "tf.Tensor([[4.]], shape=(1, 1), dtype=float32)\n"
          ]
        }
      ]
    },
    {
      "cell_type": "code",
      "source": [
        "x = tf.constant([[1,2,3],[4,5,6]])\n",
        "print(x)"
      ],
      "metadata": {
        "colab": {
          "base_uri": "https://localhost:8080/"
        },
        "id": "UIOQhoXMGJ5h",
        "outputId": "17ff6a42-da1c-455e-cd79-8fd1a6eee485"
      },
      "execution_count": 4,
      "outputs": [
        {
          "output_type": "stream",
          "name": "stdout",
          "text": [
            "tf.Tensor(\n",
            "[[1 2 3]\n",
            " [4 5 6]], shape=(2, 3), dtype=int32)\n"
          ]
        }
      ]
    },
    {
      "cell_type": "code",
      "source": [
        "x = tf.ones((3,3))\n",
        "print(x)"
      ],
      "metadata": {
        "colab": {
          "base_uri": "https://localhost:8080/"
        },
        "id": "-9tMh5peGXYd",
        "outputId": "b2cbc812-100e-4918-8392-3bf2621c8ede"
      },
      "execution_count": 5,
      "outputs": [
        {
          "output_type": "stream",
          "name": "stdout",
          "text": [
            "tf.Tensor(\n",
            "[[1. 1. 1.]\n",
            " [1. 1. 1.]\n",
            " [1. 1. 1.]], shape=(3, 3), dtype=float32)\n"
          ]
        }
      ]
    },
    {
      "cell_type": "code",
      "source": [
        "x = tf.zeros((2,3))\n",
        "print(x)"
      ],
      "metadata": {
        "colab": {
          "base_uri": "https://localhost:8080/"
        },
        "id": "bn3ebtLIGc12",
        "outputId": "6bc1cea1-6058-4ca4-baae-6c85a788cd34"
      },
      "execution_count": 6,
      "outputs": [
        {
          "output_type": "stream",
          "name": "stdout",
          "text": [
            "tf.Tensor(\n",
            "[[0. 0. 0.]\n",
            " [0. 0. 0.]], shape=(2, 3), dtype=float32)\n"
          ]
        }
      ]
    },
    {
      "cell_type": "code",
      "source": [
        "x = tf.eye(3)\n",
        "print(x)"
      ],
      "metadata": {
        "colab": {
          "base_uri": "https://localhost:8080/"
        },
        "id": "nFIZV4WLGf77",
        "outputId": "cf841b1f-729f-4c76-e4b3-5ef181c7926f"
      },
      "execution_count": 7,
      "outputs": [
        {
          "output_type": "stream",
          "name": "stdout",
          "text": [
            "tf.Tensor(\n",
            "[[1. 0. 0.]\n",
            " [0. 1. 0.]\n",
            " [0. 0. 1.]], shape=(3, 3), dtype=float32)\n"
          ]
        }
      ]
    },
    {
      "cell_type": "code",
      "source": [
        "x = tf.random.normal((3,3), mean=0, stddev=1)\n",
        "print(x)"
      ],
      "metadata": {
        "colab": {
          "base_uri": "https://localhost:8080/"
        },
        "id": "iBimhI3DGjCe",
        "outputId": "3d6cdacf-b6eb-4254-eb3f-69f73d78e7b2"
      },
      "execution_count": 8,
      "outputs": [
        {
          "output_type": "stream",
          "name": "stdout",
          "text": [
            "tf.Tensor(\n",
            "[[ 0.3516813   0.2682092   1.8351797 ]\n",
            " [-0.51331115  0.5924116   0.9716565 ]\n",
            " [-0.10373986 -0.34956014  0.348693  ]], shape=(3, 3), dtype=float32)\n"
          ]
        }
      ]
    },
    {
      "cell_type": "code",
      "source": [
        "x = tf.random.uniform((3,3), minval=-1, maxval=1)\n",
        "print(x)"
      ],
      "metadata": {
        "colab": {
          "base_uri": "https://localhost:8080/"
        },
        "id": "Lc1ktSMvG3p8",
        "outputId": "c76cf0a5-d03f-43d5-cfbf-2bb81fed90de"
      },
      "execution_count": 9,
      "outputs": [
        {
          "output_type": "stream",
          "name": "stdout",
          "text": [
            "tf.Tensor(\n",
            "[[-0.5098424  -0.7576904   0.89262533]\n",
            " [ 0.84320855  0.32523394  0.01528525]\n",
            " [-0.91304874 -0.7084999   0.47746897]], shape=(3, 3), dtype=float32)\n"
          ]
        }
      ]
    },
    {
      "cell_type": "code",
      "source": [
        "x = tf.range(start=1, limit=10, delta=2)\n",
        "print(x)"
      ],
      "metadata": {
        "colab": {
          "base_uri": "https://localhost:8080/"
        },
        "id": "5t8RlQJwG-6Z",
        "outputId": "508f30ed-268d-4dd1-d0d2-6a9e09645ce6"
      },
      "execution_count": 11,
      "outputs": [
        {
          "output_type": "stream",
          "name": "stdout",
          "text": [
            "tf.Tensor([1 3 5 7 9], shape=(5,), dtype=int32)\n"
          ]
        }
      ]
    },
    {
      "cell_type": "code",
      "source": [
        "x = tf.cast(x, dtype=tf.float64)\n",
        "print(x)"
      ],
      "metadata": {
        "colab": {
          "base_uri": "https://localhost:8080/"
        },
        "id": "47cAv2CCHDD9",
        "outputId": "9397dd9a-b9ca-494e-8a53-4789ffce77a1"
      },
      "execution_count": 12,
      "outputs": [
        {
          "output_type": "stream",
          "name": "stdout",
          "text": [
            "tf.Tensor([1. 3. 5. 7. 9.], shape=(5,), dtype=float64)\n"
          ]
        }
      ]
    },
    {
      "cell_type": "code",
      "source": [
        "x = tf.constant([1,2,3])\n",
        "y = tf.constant([7,8,9])\n",
        "\n",
        "z = tf.add(x, y)\n",
        "print(z)\n",
        "z1 = x + y\n",
        "print(f'z : {z}')\n",
        "print(f'z1 : {z1}')"
      ],
      "metadata": {
        "colab": {
          "base_uri": "https://localhost:8080/"
        },
        "id": "fBmNLs0GHS8P",
        "outputId": "55d54e01-5692-420d-cb37-613d63c22946"
      },
      "execution_count": 17,
      "outputs": [
        {
          "output_type": "stream",
          "name": "stdout",
          "text": [
            "tf.Tensor([ 8 10 12], shape=(3,), dtype=int32)\n",
            "z : [ 8 10 12]\n",
            "z1 : [ 8 10 12]\n"
          ]
        }
      ]
    },
    {
      "cell_type": "code",
      "source": [
        "z = tf.subtract(x, y)\n",
        "print(z)\n",
        "z1 = x - y\n",
        "print(f'z : {z}')\n",
        "print(f'z1 : {z1}')"
      ],
      "metadata": {
        "colab": {
          "base_uri": "https://localhost:8080/"
        },
        "id": "wfsIu9yHNJpi",
        "outputId": "703f0864-5bca-4148-bdf0-c2c7f803af8d"
      },
      "execution_count": 18,
      "outputs": [
        {
          "output_type": "stream",
          "name": "stdout",
          "text": [
            "tf.Tensor([-6 -6 -6], shape=(3,), dtype=int32)\n",
            "z : [-6 -6 -6]\n",
            "z1 : [-6 -6 -6]\n"
          ]
        }
      ]
    },
    {
      "cell_type": "code",
      "source": [
        "z = tf.divide(x, y)\n",
        "print(z)\n",
        "z1 = x / y\n",
        "print(f'z : {z}')\n",
        "print(f'z1 : {z1}')"
      ],
      "metadata": {
        "colab": {
          "base_uri": "https://localhost:8080/"
        },
        "id": "T9N2kHNWNemf",
        "outputId": "a2140c9b-8ae2-401c-f809-3e27dcfc05c3"
      },
      "execution_count": 19,
      "outputs": [
        {
          "output_type": "stream",
          "name": "stdout",
          "text": [
            "tf.Tensor([0.14285714 0.25       0.33333333], shape=(3,), dtype=float64)\n",
            "z : [0.14285714 0.25       0.33333333]\n",
            "z1 : [0.14285714 0.25       0.33333333]\n"
          ]
        }
      ]
    },
    {
      "cell_type": "code",
      "source": [
        "z = tf.multiply(x, y)\n",
        "print(z)\n",
        "z1 = x * y\n",
        "print(f'z : {z}')\n",
        "print(f'z1 : {z1}')"
      ],
      "metadata": {
        "colab": {
          "base_uri": "https://localhost:8080/"
        },
        "id": "fSGDuPwaNmkm",
        "outputId": "36a7bff4-e656-4cf7-e0a3-876281b2ca60"
      },
      "execution_count": 20,
      "outputs": [
        {
          "output_type": "stream",
          "name": "stdout",
          "text": [
            "tf.Tensor([ 7 16 27], shape=(3,), dtype=int32)\n",
            "z : [ 7 16 27]\n",
            "z1 : [ 7 16 27]\n"
          ]
        }
      ]
    },
    {
      "cell_type": "code",
      "source": [
        "z = tf.tensordot(x, y, axes=1)\n",
        "print(z)"
      ],
      "metadata": {
        "colab": {
          "base_uri": "https://localhost:8080/"
        },
        "id": "bN8cmPrbNpde",
        "outputId": "fcda8ee0-fd03-4823-eb2a-2384212599ba"
      },
      "execution_count": 21,
      "outputs": [
        {
          "output_type": "stream",
          "name": "stdout",
          "text": [
            "tf.Tensor(50, shape=(), dtype=int32)\n"
          ]
        }
      ]
    },
    {
      "cell_type": "code",
      "source": [
        "z = tf.reduce_sum(x*y, axis=0)\n",
        "print(z)"
      ],
      "metadata": {
        "colab": {
          "base_uri": "https://localhost:8080/"
        },
        "id": "ScAMxC5aNzR4",
        "outputId": "632105a3-814d-4564-9656-c7d99f07a1a1"
      },
      "execution_count": 24,
      "outputs": [
        {
          "output_type": "stream",
          "name": "stdout",
          "text": [
            "tf.Tensor(50, shape=(), dtype=int32)\n"
          ]
        }
      ]
    },
    {
      "cell_type": "code",
      "source": [
        "z = x ** 5\n",
        "print(z)"
      ],
      "metadata": {
        "colab": {
          "base_uri": "https://localhost:8080/"
        },
        "id": "6S7bYwTYN4pR",
        "outputId": "44381a17-c9f2-4605-8cbb-193ae30eed8f"
      },
      "execution_count": 25,
      "outputs": [
        {
          "output_type": "stream",
          "name": "stdout",
          "text": [
            "tf.Tensor([  1  32 243], shape=(3,), dtype=int32)\n"
          ]
        }
      ]
    },
    {
      "cell_type": "code",
      "source": [
        "x = tf.random.normal((2,3))\n",
        "y = tf.random.normal((3,4))\n",
        "\n",
        "z = tf.matmul(x, y)\n",
        "print(z)\n",
        "\n",
        "z = x @ y\n",
        "print(z)"
      ],
      "metadata": {
        "colab": {
          "base_uri": "https://localhost:8080/"
        },
        "id": "jQh_AtsaOD4h",
        "outputId": "78b35fc0-38f5-4ace-bcf2-2991303dfacd"
      },
      "execution_count": 30,
      "outputs": [
        {
          "output_type": "stream",
          "name": "stdout",
          "text": [
            "tf.Tensor(\n",
            "[[ 0.9799289   1.8445886   2.0703602   0.08418545]\n",
            " [ 0.1871345  -2.138809   -1.8794461  -0.8862495 ]], shape=(2, 4), dtype=float32)\n",
            "tf.Tensor(\n",
            "[[ 0.9799289   1.8445886   2.0703602   0.08418545]\n",
            " [ 0.1871345  -2.138809   -1.8794461  -0.8862495 ]], shape=(2, 4), dtype=float32)\n"
          ]
        }
      ]
    },
    {
      "cell_type": "markdown",
      "source": [
        "If you don't run the above code, add these two lines in front of the code, I'm working on colab so I don't need this code.\n",
        "\n",
        "physical_devices = tf.config.list_physical_devices('GPU')\n",
        "\n",
        "tf.config.experimental.set_memory_growth(physical_devices[0], True)\n",
        "\n"
      ],
      "metadata": {
        "id": "9bj-RSpCPGwF"
      }
    },
    {
      "cell_type": "code",
      "source": [
        "x = tf.constant([0,1,1,2,3,1,2,3])\n",
        "print(x[:])\n",
        "print(x[1:])\n",
        "print(x[1:3])\n",
        "print(x[::2])\n",
        "print(x[::-1])"
      ],
      "metadata": {
        "colab": {
          "base_uri": "https://localhost:8080/"
        },
        "id": "fMRHCVKPOeqS",
        "outputId": "e025487c-df0c-4c27-c495-ed0289ee5d52"
      },
      "execution_count": 36,
      "outputs": [
        {
          "output_type": "stream",
          "name": "stdout",
          "text": [
            "tf.Tensor([0 1 1 2 3 1 2 3], shape=(8,), dtype=int32)\n",
            "tf.Tensor([1 1 2 3 1 2 3], shape=(7,), dtype=int32)\n",
            "tf.Tensor([1 1], shape=(2,), dtype=int32)\n",
            "tf.Tensor([0 1 3 2], shape=(4,), dtype=int32)\n",
            "tf.Tensor([3 2 1 3 2 1 1 0], shape=(8,), dtype=int32)\n"
          ]
        }
      ]
    },
    {
      "cell_type": "code",
      "source": [
        "indices = tf.constant([0,3])\n",
        "x_ind = tf.gather(x, indices)\n",
        "print(x_ind)"
      ],
      "metadata": {
        "colab": {
          "base_uri": "https://localhost:8080/"
        },
        "id": "itQz-uXsTSH1",
        "outputId": "d569ca54-40a1-4cba-8c2a-371a0307ba1f"
      },
      "execution_count": 37,
      "outputs": [
        {
          "output_type": "stream",
          "name": "stdout",
          "text": [
            "tf.Tensor([0 2], shape=(2,), dtype=int32)\n"
          ]
        }
      ]
    },
    {
      "cell_type": "code",
      "source": [
        "x = tf.constant([[1,2],\n",
        "                [3,4],\n",
        "                [5,6]])\n",
        "\n",
        "print(x[0,:])\n",
        "print(x[0:2,:])"
      ],
      "metadata": {
        "colab": {
          "base_uri": "https://localhost:8080/"
        },
        "id": "Q0BhI-P5T2JE",
        "outputId": "9b4c6924-58fa-4904-c215-73c2cc25a79a"
      },
      "execution_count": 39,
      "outputs": [
        {
          "output_type": "stream",
          "name": "stdout",
          "text": [
            "tf.Tensor([1 2], shape=(2,), dtype=int32)\n",
            "tf.Tensor(\n",
            "[[1 2]\n",
            " [3 4]], shape=(2, 2), dtype=int32)\n"
          ]
        }
      ]
    },
    {
      "cell_type": "code",
      "source": [
        "x = tf.range(9)\n",
        "print(x)\n",
        "\n",
        "x = tf.reshape(x, (3,3))\n",
        "# x = tf.reshape(x, (3,2)) it'll give an error, it makes 3x2 = 6 but our array is 9 in length\n",
        "print(x)"
      ],
      "metadata": {
        "colab": {
          "base_uri": "https://localhost:8080/"
        },
        "id": "f1jKMfT6Ukbi",
        "outputId": "aaf3af18-69eb-4974-b1d1-3b77b26da9fc"
      },
      "execution_count": 44,
      "outputs": [
        {
          "output_type": "stream",
          "name": "stdout",
          "text": [
            "tf.Tensor([0 1 2 3 4 5 6 7 8], shape=(9,), dtype=int32)\n",
            "tf.Tensor(\n",
            "[[0 1 2]\n",
            " [3 4 5]\n",
            " [6 7 8]], shape=(3, 3), dtype=int32)\n"
          ]
        }
      ]
    },
    {
      "cell_type": "code",
      "source": [
        "x = tf.transpose(x, perm=[1,0])\n",
        "print(x)"
      ],
      "metadata": {
        "colab": {
          "base_uri": "https://localhost:8080/"
        },
        "id": "C7hbD_wHU0XV",
        "outputId": "c1da1032-eb28-4a66-9af4-368f443a9b57"
      },
      "execution_count": 46,
      "outputs": [
        {
          "output_type": "stream",
          "name": "stdout",
          "text": [
            "tf.Tensor(\n",
            "[[0 3 6]\n",
            " [1 4 7]\n",
            " [2 5 8]], shape=(3, 3), dtype=int32)\n"
          ]
        }
      ]
    }
  ]
}