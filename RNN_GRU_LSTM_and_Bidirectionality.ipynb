{
  "nbformat": 4,
  "nbformat_minor": 0,
  "metadata": {
    "colab": {
      "provenance": []
    },
    "kernelspec": {
      "name": "python3",
      "display_name": "Python 3"
    },
    "language_info": {
      "name": "python"
    }
  },
  "cells": [
    {
      "cell_type": "code",
      "execution_count": 3,
      "metadata": {
        "id": "Q9wg4cIrF2Wu"
      },
      "outputs": [],
      "source": [
        "import tensorflow as tf\n",
        "from tensorflow import keras\n",
        "from tensorflow.keras import layers\n",
        "from tensorflow.keras.datasets import mnist"
      ]
    },
    {
      "cell_type": "code",
      "source": [
        "(X_train, y_train), (X_test, y_test) = mnist.load_data()"
      ],
      "metadata": {
        "colab": {
          "base_uri": "https://localhost:8080/"
        },
        "id": "BCfAAIxUQr3j",
        "outputId": "2938f5f7-c678-4632-df11-c258eeb6b4a8"
      },
      "execution_count": 4,
      "outputs": [
        {
          "output_type": "stream",
          "name": "stdout",
          "text": [
            "Downloading data from https://storage.googleapis.com/tensorflow/tf-keras-datasets/mnist.npz\n",
            "11490434/11490434 [==============================] - 0s 0us/step\n"
          ]
        }
      ]
    },
    {
      "cell_type": "code",
      "source": [
        "X_train = X_train.astype('float32') / 255.0"
      ],
      "metadata": {
        "id": "ncRsxM0VQ8K8"
      },
      "execution_count": 5,
      "outputs": []
    },
    {
      "cell_type": "code",
      "source": [
        "X_test = X_test.astype('float32') / 255.0"
      ],
      "metadata": {
        "id": "GuQ4PSVURFGV"
      },
      "execution_count": 6,
      "outputs": []
    },
    {
      "cell_type": "code",
      "source": [
        "model = keras.Sequential()\n",
        "model.add(keras.Input(shape=(None, 28)))\n",
        "model.add(layers.SimpleRNN(512, return_sequences=True, activation='relu'))\n",
        "model.add(layers.SimpleRNN(512, activation='relu'))\n",
        "model.add(layers.Dense(10))"
      ],
      "metadata": {
        "id": "oBgjQr2JRH8J"
      },
      "execution_count": 7,
      "outputs": []
    },
    {
      "cell_type": "markdown",
      "source": [
        "\n",
        "\n",
        "```\n",
        "model.add(layers.SimpleRNN(512, return_sequences=True, activation='relu'))\n",
        "```\n",
        "\n",
        "\n",
        "Bu kod, bir SimpleRNN katmanını tanımlar ve bu katmanı bir Keras modeline ekler. Bu katman, rekürsif sinir ağı (RNN) türlerinden biridir ve bir zaman serisi verisi üzerinde işlem yapmak için kullanılır.\n",
        "\n",
        "SimpleRNN katmanı, bir önceki zaman adımındaki çıktıyı (veya durumu) yeni bir girdi olarak kullanarak zaman serisi verilerini işler. 512 argümanı, katmandaki hücre sayısını belirtir ve return_sequences=True argümanı, katmanın her zaman adımında bir çıktı değeri üreteceğini belirtir. Bu argüman, birden çok RNN katmanı üst üste konulduğunda gereklidir.\n",
        "\n",
        "activation='relu' argümanı, katmandaki aktivasyon fonksiyonunu belirtir. ReLU (Rectified Linear Unit) aktivasyon fonksiyonu, yapay sinir ağlarında sıkça kullanılan bir aktivasyon fonksiyonudur ve özellikle derin sinir ağları için tercih edilir. ReLU fonksiyonu, girdinin sıfırdan büyük olduğu durumlarda doğrusal bir fonksiyondur ve girdinin sıfırdan küçük olduğu durumlarda ise sıfıra eşittir.\n",
        "\n",
        "Bu kod bloğu, bir Keras modelinin bir katmanını tanımlar ve bu katmanın bir sonraki adımda bir zaman serisi verisi üzerinde işlem yapmak üzere kullanılacağını belirtir."
      ],
      "metadata": {
        "id": "cLREVRhysSIc"
      }
    },
    {
      "cell_type": "code",
      "source": [
        "model.summary()"
      ],
      "metadata": {
        "colab": {
          "base_uri": "https://localhost:8080/"
        },
        "id": "A-czRQsgSL5_",
        "outputId": "11045235-ba0f-4674-85b0-1da7778379da"
      },
      "execution_count": 14,
      "outputs": [
        {
          "output_type": "stream",
          "name": "stdout",
          "text": [
            "Model: \"sequential\"\n",
            "_________________________________________________________________\n",
            " Layer (type)                Output Shape              Param #   \n",
            "=================================================================\n",
            " simple_rnn_1 (SimpleRNN)    (None, None, 512)         276992    \n",
            "                                                                 \n",
            " simple_rnn_2 (SimpleRNN)    (None, 512)               524800    \n",
            "                                                                 \n",
            " dense (Dense)               (None, 10)                5130      \n",
            "                                                                 \n",
            "=================================================================\n",
            "Total params: 806,922\n",
            "Trainable params: 806,922\n",
            "Non-trainable params: 0\n",
            "_________________________________________________________________\n"
          ]
        }
      ]
    },
    {
      "cell_type": "code",
      "source": [
        "model.compile(\n",
        "    loss=keras.losses.SparseCategoricalCrossentropy(from_logits=True),\n",
        "    optimizer=keras.optimizers.Adam(learning_rate=0.001),\n",
        "    metrics=['accuracy']\n",
        "    )"
      ],
      "metadata": {
        "id": "AMIpv5m6SQ2r"
      },
      "execution_count": 16,
      "outputs": []
    },
    {
      "cell_type": "code",
      "source": [
        "model.fit(X_train, y_train, batch_size=64, epochs=10, verbose=2)"
      ],
      "metadata": {
        "colab": {
          "base_uri": "https://localhost:8080/"
        },
        "id": "xmf4DnZxS0AW",
        "outputId": "86779c9a-f7d5-4473-c988-d8882abe571f"
      },
      "execution_count": 17,
      "outputs": [
        {
          "output_type": "stream",
          "name": "stdout",
          "text": [
            "Epoch 1/10\n",
            "938/938 - 171s - loss: 0.3029 - accuracy: 0.9081 - 171s/epoch - 182ms/step\n",
            "Epoch 2/10\n",
            "938/938 - 168s - loss: 0.1475 - accuracy: 0.9600 - 168s/epoch - 179ms/step\n",
            "Epoch 3/10\n",
            "938/938 - 168s - loss: 0.1137 - accuracy: 0.9696 - 168s/epoch - 179ms/step\n",
            "Epoch 4/10\n",
            "938/938 - 169s - loss: 0.1067 - accuracy: 0.9709 - 169s/epoch - 180ms/step\n",
            "Epoch 5/10\n",
            "938/938 - 168s - loss: 0.0935 - accuracy: 0.9745 - 168s/epoch - 180ms/step\n",
            "Epoch 6/10\n",
            "938/938 - 168s - loss: 0.0824 - accuracy: 0.9778 - 168s/epoch - 179ms/step\n",
            "Epoch 7/10\n",
            "938/938 - 169s - loss: 0.0740 - accuracy: 0.9800 - 169s/epoch - 180ms/step\n",
            "Epoch 8/10\n",
            "938/938 - 168s - loss: 0.0797 - accuracy: 0.9786 - 168s/epoch - 179ms/step\n",
            "Epoch 9/10\n",
            "938/938 - 169s - loss: 0.0777 - accuracy: 0.9788 - 169s/epoch - 180ms/step\n",
            "Epoch 10/10\n",
            "938/938 - 169s - loss: 0.0659 - accuracy: 0.9816 - 169s/epoch - 180ms/step\n"
          ]
        },
        {
          "output_type": "execute_result",
          "data": {
            "text/plain": [
              "<keras.callbacks.History at 0x7fe72f2ea7d0>"
            ]
          },
          "metadata": {},
          "execution_count": 17
        }
      ]
    },
    {
      "cell_type": "code",
      "source": [
        "model.evaluate(X_test, y_test, batch_size=64, verbose=2)"
      ],
      "metadata": {
        "colab": {
          "base_uri": "https://localhost:8080/"
        },
        "id": "hDp9LI3pTIDb",
        "outputId": "6acddda8-a5bc-417b-b604-0d6013db83c2"
      },
      "execution_count": 18,
      "outputs": [
        {
          "output_type": "stream",
          "name": "stdout",
          "text": [
            "157/157 - 8s - loss: 0.0674 - accuracy: 0.9838 - 8s/epoch - 50ms/step\n"
          ]
        },
        {
          "output_type": "execute_result",
          "data": {
            "text/plain": [
              "[0.06738284975290298, 0.9837999939918518]"
            ]
          },
          "metadata": {},
          "execution_count": 18
        }
      ]
    },
    {
      "cell_type": "code",
      "source": [
        "model = keras.Sequential()\n",
        "model.add(keras.Input(shape=(None, 28)))\n",
        "model.add(layers.GRU(256, return_sequences=True, activation='tanh'))\n",
        "model.add(layers.GRU(256, activation='tanh'))\n",
        "model.add(layers.Dense(10))"
      ],
      "metadata": {
        "id": "N_nFwm8qblzM"
      },
      "execution_count": 19,
      "outputs": []
    },
    {
      "cell_type": "markdown",
      "source": [
        "\n",
        "\n",
        "```\n",
        "model.add(layers.GRU(256, return_sequences=True, activation='tanh'))\n",
        "```\n",
        "\n",
        "Bu kod bloğu, bir GRU (Gated Recurrent Unit) katmanını Keras modeline ekler. GRU, bir tür RNN'dir ve özellikle dil işleme, zaman serisi verileri ve ses işleme gibi görevlerde kullanılır.\n",
        "\n",
        "256 argümanı, GRU katmanındaki hücre sayısını belirtir. return_sequences=True argümanı, katmanın her zaman adımında bir çıktı değeri üreteceğini belirtir. Bu argüman, birden çok RNN katmanı üst üste konulduğunda gereklidir.\n",
        "\n",
        "activation='tanh' argümanı, katmandaki aktivasyon fonksiyonunu belirtir. Bu durumda, GRU hücrelerinde yaygın olarak kullanılan hiperbolik tanjant (tanh) aktivasyon fonksiyonunu kullanır. Bu aktivasyon fonksiyonu, -1 ile 1 arasında değerler üretir ve girdinin sıfırdan küçük olduğu durumlarda negatif değerler, sıfırdan büyük olduğu durumlarda ise pozitif değerler üretir.\n",
        "\n",
        "Bu kod bloğu, bir GRU katmanını Keras modeline ekler ve modelin bir sonraki adımda bir zaman serisi verisi üzerinde işlem yapmak üzere kullanılacağını belirtir.\n"
      ],
      "metadata": {
        "id": "70A3HH4rshCF"
      }
    },
    {
      "cell_type": "code",
      "source": [
        "model.summary()"
      ],
      "metadata": {
        "colab": {
          "base_uri": "https://localhost:8080/"
        },
        "id": "BnYyntoxcHAQ",
        "outputId": "03ac89e4-e62b-4129-df6c-d34190f0218d"
      },
      "execution_count": 20,
      "outputs": [
        {
          "output_type": "stream",
          "name": "stdout",
          "text": [
            "Model: \"sequential_1\"\n",
            "_________________________________________________________________\n",
            " Layer (type)                Output Shape              Param #   \n",
            "=================================================================\n",
            " gru (GRU)                   (None, None, 256)         219648    \n",
            "                                                                 \n",
            " gru_1 (GRU)                 (None, 256)               394752    \n",
            "                                                                 \n",
            " dense_1 (Dense)             (None, 10)                2570      \n",
            "                                                                 \n",
            "=================================================================\n",
            "Total params: 616,970\n",
            "Trainable params: 616,970\n",
            "Non-trainable params: 0\n",
            "_________________________________________________________________\n"
          ]
        }
      ]
    },
    {
      "cell_type": "code",
      "source": [
        "model.compile(\n",
        "    loss=keras.losses.SparseCategoricalCrossentropy(from_logits=True),\n",
        "    optimizer=keras.optimizers.Adam(learning_rate=0.001),\n",
        "    metrics=['accuracy']\n",
        "    )"
      ],
      "metadata": {
        "id": "HZQgnYjBcYl8"
      },
      "execution_count": 22,
      "outputs": []
    },
    {
      "cell_type": "code",
      "source": [
        "model.fit(X_train, y_train, batch_size=64, epochs=10, verbose=2)"
      ],
      "metadata": {
        "colab": {
          "base_uri": "https://localhost:8080/"
        },
        "id": "r2EHr0EWcH0A",
        "outputId": "6c71aba2-6375-4254-8a0a-b0d9c5fbbd65"
      },
      "execution_count": 23,
      "outputs": [
        {
          "output_type": "stream",
          "name": "stdout",
          "text": [
            "Epoch 1/10\n",
            "938/938 - 146s - loss: 0.2714 - accuracy: 0.9108 - 146s/epoch - 156ms/step\n",
            "Epoch 2/10\n",
            "938/938 - 143s - loss: 0.0692 - accuracy: 0.9786 - 143s/epoch - 152ms/step\n",
            "Epoch 3/10\n",
            "938/938 - 143s - loss: 0.0463 - accuracy: 0.9855 - 143s/epoch - 152ms/step\n",
            "Epoch 4/10\n",
            "938/938 - 142s - loss: 0.0377 - accuracy: 0.9880 - 142s/epoch - 152ms/step\n",
            "Epoch 5/10\n",
            "938/938 - 143s - loss: 0.0289 - accuracy: 0.9910 - 143s/epoch - 152ms/step\n",
            "Epoch 6/10\n",
            "938/938 - 142s - loss: 0.0254 - accuracy: 0.9922 - 142s/epoch - 152ms/step\n",
            "Epoch 7/10\n",
            "938/938 - 143s - loss: 0.0222 - accuracy: 0.9930 - 143s/epoch - 152ms/step\n",
            "Epoch 8/10\n",
            "938/938 - 143s - loss: 0.0178 - accuracy: 0.9945 - 143s/epoch - 152ms/step\n",
            "Epoch 9/10\n",
            "938/938 - 143s - loss: 0.0161 - accuracy: 0.9948 - 143s/epoch - 152ms/step\n",
            "Epoch 10/10\n",
            "938/938 - 143s - loss: 0.0143 - accuracy: 0.9953 - 143s/epoch - 152ms/step\n"
          ]
        },
        {
          "output_type": "execute_result",
          "data": {
            "text/plain": [
              "<keras.callbacks.History at 0x7fe721a10cd0>"
            ]
          },
          "metadata": {},
          "execution_count": 23
        }
      ]
    },
    {
      "cell_type": "code",
      "source": [
        "model.evaluate(X_test, y_test, batch_size=64, verbose=2)"
      ],
      "metadata": {
        "colab": {
          "base_uri": "https://localhost:8080/"
        },
        "id": "0f27It1Cca1S",
        "outputId": "012d4f54-8a9a-4761-c3d8-76f32b948bd1"
      },
      "execution_count": 24,
      "outputs": [
        {
          "output_type": "stream",
          "name": "stdout",
          "text": [
            "157/157 - 8s - loss: 0.0474 - accuracy: 0.9866 - 8s/epoch - 53ms/step\n"
          ]
        },
        {
          "output_type": "execute_result",
          "data": {
            "text/plain": [
              "[0.047426801174879074, 0.9865999817848206]"
            ]
          },
          "metadata": {},
          "execution_count": 24
        }
      ]
    },
    {
      "cell_type": "code",
      "source": [
        "model = keras.Sequential()\n",
        "model.add(keras.Input(shape=(None, 28)))\n",
        "model.add(layers.LSTM(256, return_sequences=True, activation='tanh'))\n",
        "model.add(layers.LSTM(256, activation='tanh'))\n",
        "model.add(layers.Dense(10))"
      ],
      "metadata": {
        "id": "Ia9SF2d_cJcU"
      },
      "execution_count": 25,
      "outputs": []
    },
    {
      "cell_type": "markdown",
      "source": [
        "\n",
        "\n",
        "```\n",
        "model.add(layers.LSTM(256, return_sequences=True, activation='tanh'))\n",
        "\n",
        "```\n",
        "\n",
        "Bu kod bloğu, bir LSTM (Long Short-Term Memory) katmanını Keras modeline ekler. LSTM, bir tür RNN'dir ve özellikle uzun zaman aralıkları içeren zaman serileri veya dil işleme gibi görevlerde kullanılır.\n",
        "\n",
        "256 argümanı, LSTM katmanındaki hücre sayısını belirtir. return_sequences=True argümanı, katmanın her zaman adımında bir çıktı değeri üreteceğini belirtir. Bu argüman, birden çok RNN katmanı üst üste konulduğunda gereklidir.\n",
        "\n",
        "activation='tanh' argümanı, katmandaki aktivasyon fonksiyonunu belirtir. Bu durumda, LSTM hücrelerinde yaygın olarak kullanılan hiperbolik tanjant (tanh) aktivasyon fonksiyonunu kullanır. Bu aktivasyon fonksiyonu, -1 ile 1 arasında değerler üretir ve girdinin sıfırdan küçük olduğu durumlarda negatif değerler, sıfırdan büyük olduğu durumlarda ise pozitif değerler üretir.\n",
        "\n",
        "Bu kod bloğu, bir LSTM katmanını Keras modeline ekler ve modelin bir sonraki adımda bir zaman serisi verisi üzerinde işlem yapmak üzere kullanılacağını belirtir.\n"
      ],
      "metadata": {
        "id": "YCaImFlUs_tS"
      }
    },
    {
      "cell_type": "code",
      "source": [
        "model.summary()"
      ],
      "metadata": {
        "colab": {
          "base_uri": "https://localhost:8080/"
        },
        "id": "SgRluvVyj89G",
        "outputId": "d9de0f49-aa2b-4748-926d-c1b18618fbae"
      },
      "execution_count": 26,
      "outputs": [
        {
          "output_type": "stream",
          "name": "stdout",
          "text": [
            "Model: \"sequential_2\"\n",
            "_________________________________________________________________\n",
            " Layer (type)                Output Shape              Param #   \n",
            "=================================================================\n",
            " lstm (LSTM)                 (None, None, 256)         291840    \n",
            "                                                                 \n",
            " lstm_1 (LSTM)               (None, 256)               525312    \n",
            "                                                                 \n",
            " dense_2 (Dense)             (None, 10)                2570      \n",
            "                                                                 \n",
            "=================================================================\n",
            "Total params: 819,722\n",
            "Trainable params: 819,722\n",
            "Non-trainable params: 0\n",
            "_________________________________________________________________\n"
          ]
        }
      ]
    },
    {
      "cell_type": "code",
      "source": [
        "model.compile(\n",
        "    loss=keras.losses.SparseCategoricalCrossentropy(from_logits=True),\n",
        "    optimizer=keras.optimizers.Adam(learning_rate=0.001),\n",
        "    metrics=['accuracy']\n",
        "    )"
      ],
      "metadata": {
        "id": "y3dcw4Cxj-T2"
      },
      "execution_count": 27,
      "outputs": []
    },
    {
      "cell_type": "code",
      "source": [
        "model.fit(X_train, y_train, batch_size=64, epochs=10, verbose=2)"
      ],
      "metadata": {
        "colab": {
          "base_uri": "https://localhost:8080/"
        },
        "id": "XgBR5tvWj_s8",
        "outputId": "14adfa59-286d-4d1d-ebfe-0320b10b5d30"
      },
      "execution_count": 28,
      "outputs": [
        {
          "output_type": "stream",
          "name": "stdout",
          "text": [
            "Epoch 1/10\n",
            "938/938 - 211s - loss: 0.2985 - accuracy: 0.9015 - 211s/epoch - 225ms/step\n",
            "Epoch 2/10\n",
            "938/938 - 207s - loss: 0.0865 - accuracy: 0.9741 - 207s/epoch - 221ms/step\n",
            "Epoch 3/10\n",
            "938/938 - 207s - loss: 0.0620 - accuracy: 0.9813 - 207s/epoch - 220ms/step\n",
            "Epoch 4/10\n",
            "938/938 - 207s - loss: 0.0436 - accuracy: 0.9865 - 207s/epoch - 221ms/step\n",
            "Epoch 5/10\n",
            "938/938 - 207s - loss: 0.0378 - accuracy: 0.9884 - 207s/epoch - 221ms/step\n",
            "Epoch 6/10\n",
            "938/938 - 207s - loss: 0.0324 - accuracy: 0.9898 - 207s/epoch - 220ms/step\n",
            "Epoch 7/10\n",
            "938/938 - 211s - loss: 0.0291 - accuracy: 0.9909 - 211s/epoch - 224ms/step\n",
            "Epoch 8/10\n",
            "938/938 - 207s - loss: 0.0231 - accuracy: 0.9929 - 207s/epoch - 221ms/step\n",
            "Epoch 9/10\n",
            "938/938 - 206s - loss: 0.0211 - accuracy: 0.9934 - 206s/epoch - 220ms/step\n",
            "Epoch 10/10\n",
            "938/938 - 207s - loss: 0.0184 - accuracy: 0.9943 - 207s/epoch - 221ms/step\n"
          ]
        },
        {
          "output_type": "execute_result",
          "data": {
            "text/plain": [
              "<keras.callbacks.History at 0x7fe72c7c5d50>"
            ]
          },
          "metadata": {},
          "execution_count": 28
        }
      ]
    },
    {
      "cell_type": "code",
      "source": [
        "model.evaluate(X_test, y_test, batch_size=64, verbose=2)"
      ],
      "metadata": {
        "colab": {
          "base_uri": "https://localhost:8080/"
        },
        "id": "cyQOh9S3kBGD",
        "outputId": "047d0b25-8410-4eaf-950d-f9739b8f5771"
      },
      "execution_count": 29,
      "outputs": [
        {
          "output_type": "stream",
          "name": "stdout",
          "text": [
            "157/157 - 10s - loss: 0.0455 - accuracy: 0.9874 - 10s/epoch - 64ms/step\n"
          ]
        },
        {
          "output_type": "execute_result",
          "data": {
            "text/plain": [
              "[0.045515187084674835, 0.9873999953269958]"
            ]
          },
          "metadata": {},
          "execution_count": 29
        }
      ]
    },
    {
      "cell_type": "code",
      "source": [
        "model = keras.Sequential()\n",
        "model.add(keras.Input(shape=(None, 28)))\n",
        "model.add(layers.Bidirectional(layers.LSTM(256, return_sequences=True, activation='tanh')))\n",
        "model.add(layers.LSTM(256, activation='tanh'))\n",
        "model.add(layers.Dense(10))"
      ],
      "metadata": {
        "id": "ixcCvHL4o-rZ"
      },
      "execution_count": null,
      "outputs": []
    },
    {
      "cell_type": "markdown",
      "source": [
        "\n",
        "\n",
        "```\n",
        "model.add(layers.Bidirectional(layers.LSTM(256, return_sequences=True, activation='tanh')))\n",
        "```\n",
        "\n",
        "Bu kod bloğu, bir Bi-Directional (çift yönlü) LSTM (Long Short-Term Memory) katmanını Keras modeline ekler. Bi-Directional RNN'ler, zaman serisi verileri gibi çift yönlü bilgi işleme gerektiren görevler için kullanılır.\n",
        "\n",
        "256 argümanı, LSTM katmanındaki hücre sayısını belirtir. return_sequences=True argümanı, katmanın her zaman adımında bir çıktı değeri üreteceğini belirtir. Bu argüman, birden çok RNN katmanı üst üste konulduğunda gereklidir.\n",
        "\n",
        "activation='tanh' argümanı, katmandaki aktivasyon fonksiyonunu belirtir. Bu durumda, LSTM hücrelerinde yaygın olarak kullanılan hiperbolik tanjant (tanh) aktivasyon fonksiyonunu kullanır. Bu aktivasyon fonksiyonu, -1 ile 1 arasında değerler üretir ve girdinin sıfırdan küçük olduğu durumlarda negatif değerler, sıfırdan büyük olduğu durumlarda ise pozitif değerler üretir.\n",
        "\n",
        "Bu kod bloğu, LSTM katmanının çift yönlü olmasını sağlar. Yani, LSTM katmanı hem ileri hem de geri yönde çalışır ve zaman serisi verilerindeki hem geçmiş hem de gelecek bilgileri kullanır. Bu, modelin daha iyi sonuçlar vermesine ve daha az overfitting yapmasına yardımcı olabilir.\n"
      ],
      "metadata": {
        "id": "3rrRNHDPtN66"
      }
    },
    {
      "cell_type": "code",
      "source": [
        "model.fit(X_train, y_train, batch_size=64, epochs=10, verbose=2)"
      ],
      "metadata": {
        "id": "j7Myjka_tPjS"
      },
      "execution_count": null,
      "outputs": []
    },
    {
      "cell_type": "code",
      "source": [
        "model.evaluate(X_test, y_test, batch_size=64, verbose=2)"
      ],
      "metadata": {
        "id": "rqh7Ky-FtU-3"
      },
      "execution_count": null,
      "outputs": []
    }
  ]
}